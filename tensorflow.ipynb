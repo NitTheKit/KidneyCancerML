{
 "cells": [
  {
   "cell_type": "code",
   "execution_count": 108,
   "metadata": {},
   "outputs": [],
   "source": [
    "#import needed packages\n",
    "\n",
    "import tensorflow as tf\n",
    "from tensorflow.keras.layers import Dense, Flatten, Conv2D\n",
    "from tensorflow.keras import Model\n",
    "\n",
    "import numpy as np\n",
    "import pandas as pd\n",
    "\n",
    "from sklearn.model_selection import train_test_split"
   ]
  },
  {
   "cell_type": "code",
   "execution_count": 109,
   "metadata": {},
   "outputs": [
    {
     "name": "stdout",
     "output_type": "stream",
     "text": [
      "(399, 20531)\n"
     ]
    }
   ],
   "source": [
    "#Load preprocessed data\n",
    "\n",
    "mrna_x = np.load('processed_mrna_data.npy')\n",
    "y = np.load('processed_recurrence_data.npy')\n",
    "X_train, X_test, y_train, y_test = train_test_split(mrna_x, y,\n",
    "                                                    train_size=0.75, test_size=0.25)\n",
    "\n",
    "print(X_train.shape)\n"
   ]
  },
  {
   "cell_type": "code",
   "execution_count": 110,
   "metadata": {},
   "outputs": [],
   "source": [
    "#make normalization layer\n",
    "\n",
    "normalize = tf.keras.layers.Normalization()\n",
    "normalize.adapt(X_train)"
   ]
  },
  {
   "cell_type": "code",
   "execution_count": 111,
   "metadata": {},
   "outputs": [],
   "source": [
    "#make and compile the Neural Network model\n",
    "\n",
    "model = tf.keras.models.Sequential([\n",
    "  normalize,\n",
    "  tf.keras.layers.Dense(200, input_shape=(20531,),activation=tf.nn.relu),\n",
    "  tf.keras.layers.Dense(10, activation=tf.nn.relu),\n",
    "  tf.keras.layers.Dense(2)\n",
    "\n",
    "])\n",
    "\n",
    "model.compile(loss = tf.keras.losses.SparseCategoricalCrossentropy(from_logits=True),\n",
    "                      optimizer = tf.keras.optimizers.Adam(), metrics=['accuracy'])"
   ]
  },
  {
   "cell_type": "code",
   "execution_count": 112,
   "metadata": {},
   "outputs": [
    {
     "name": "stdout",
     "output_type": "stream",
     "text": [
      "Epoch 1/25\n",
      "13/13 [==============================] - 1s 46ms/step - loss: 2.3508 - accuracy: 0.6065 - val_loss: 282.8037 - val_accuracy: 0.8358\n",
      "Epoch 2/25\n",
      "13/13 [==============================] - 0s 35ms/step - loss: 0.5934 - accuracy: 0.8622 - val_loss: 96.6504 - val_accuracy: 0.8358\n",
      "Epoch 3/25\n",
      "13/13 [==============================] - 0s 32ms/step - loss: 0.2124 - accuracy: 0.9173 - val_loss: 83.3289 - val_accuracy: 0.8507\n",
      "Epoch 4/25\n",
      "13/13 [==============================] - 0s 31ms/step - loss: 0.1171 - accuracy: 0.9474 - val_loss: 78.0256 - val_accuracy: 0.8433\n",
      "Epoch 5/25\n",
      "13/13 [==============================] - 0s 29ms/step - loss: 0.0673 - accuracy: 0.9674 - val_loss: 74.7203 - val_accuracy: 0.8582\n",
      "Epoch 6/25\n",
      "13/13 [==============================] - 0s 31ms/step - loss: 0.0413 - accuracy: 0.9774 - val_loss: 73.3485 - val_accuracy: 0.8657\n",
      "Epoch 7/25\n",
      "13/13 [==============================] - 0s 28ms/step - loss: 0.0289 - accuracy: 0.9825 - val_loss: 83.8019 - val_accuracy: 0.8657\n",
      "Epoch 8/25\n",
      "13/13 [==============================] - 0s 29ms/step - loss: 0.0210 - accuracy: 0.9850 - val_loss: 88.8045 - val_accuracy: 0.8582\n",
      "Epoch 9/25\n",
      "13/13 [==============================] - 0s 31ms/step - loss: 0.0143 - accuracy: 0.9900 - val_loss: 93.9068 - val_accuracy: 0.8507\n",
      "Epoch 10/25\n",
      "13/13 [==============================] - 0s 29ms/step - loss: 0.0102 - accuracy: 0.9925 - val_loss: 99.4207 - val_accuracy: 0.8582\n",
      "Epoch 11/25\n",
      "13/13 [==============================] - 0s 31ms/step - loss: 0.0087 - accuracy: 0.9925 - val_loss: 102.0982 - val_accuracy: 0.8657\n",
      "Epoch 12/25\n",
      "13/13 [==============================] - 0s 38ms/step - loss: 0.0080 - accuracy: 0.9925 - val_loss: 104.4284 - val_accuracy: 0.8657\n",
      "Epoch 13/25\n",
      "13/13 [==============================] - 0s 33ms/step - loss: 0.0075 - accuracy: 0.9925 - val_loss: 106.7715 - val_accuracy: 0.8657\n",
      "Epoch 14/25\n",
      "13/13 [==============================] - 0s 31ms/step - loss: 0.0071 - accuracy: 0.9925 - val_loss: 107.4204 - val_accuracy: 0.8657\n",
      "Epoch 15/25\n",
      "13/13 [==============================] - 0s 28ms/step - loss: 0.0069 - accuracy: 0.9925 - val_loss: 109.6072 - val_accuracy: 0.8657\n",
      "Epoch 16/25\n",
      "13/13 [==============================] - 0s 28ms/step - loss: 0.0067 - accuracy: 0.9925 - val_loss: 111.2414 - val_accuracy: 0.8657\n",
      "Epoch 17/25\n",
      "13/13 [==============================] - 0s 30ms/step - loss: 0.0065 - accuracy: 0.9925 - val_loss: 112.5961 - val_accuracy: 0.8657\n",
      "Epoch 18/25\n",
      "13/13 [==============================] - 0s 30ms/step - loss: 0.0064 - accuracy: 0.9925 - val_loss: 114.0797 - val_accuracy: 0.8657\n",
      "Epoch 19/25\n",
      "13/13 [==============================] - 0s 30ms/step - loss: 0.0062 - accuracy: 0.9925 - val_loss: 115.2477 - val_accuracy: 0.8657\n",
      "Epoch 20/25\n",
      "13/13 [==============================] - 1s 40ms/step - loss: 0.0061 - accuracy: 0.9925 - val_loss: 116.2328 - val_accuracy: 0.8657\n",
      "Epoch 21/25\n",
      "13/13 [==============================] - 0s 30ms/step - loss: 0.0061 - accuracy: 0.9925 - val_loss: 117.3763 - val_accuracy: 0.8657\n",
      "Epoch 22/25\n",
      "13/13 [==============================] - 0s 29ms/step - loss: 0.0060 - accuracy: 0.9975 - val_loss: 118.3129 - val_accuracy: 0.8657\n",
      "Epoch 23/25\n",
      "13/13 [==============================] - 0s 26ms/step - loss: 0.0059 - accuracy: 1.0000 - val_loss: 119.0956 - val_accuracy: 0.8657\n",
      "Epoch 24/25\n",
      "13/13 [==============================] - 0s 28ms/step - loss: 0.0059 - accuracy: 1.0000 - val_loss: 120.2848 - val_accuracy: 0.8657\n",
      "Epoch 25/25\n",
      "13/13 [==============================] - 0s 29ms/step - loss: 0.0058 - accuracy: 1.0000 - val_loss: 120.9570 - val_accuracy: 0.8657\n"
     ]
    },
    {
     "data": {
      "text/plain": [
       "<keras.src.callbacks.History at 0x1c405129c70>"
      ]
     },
     "execution_count": 112,
     "metadata": {},
     "output_type": "execute_result"
    }
   ],
   "source": [
    "#Train the model on the cBioPortal data\n",
    "\n",
    "model.fit(X_train, y_train, epochs=25, validation_data=(X_test, y_test))\n"
   ]
  },
  {
   "cell_type": "code",
   "execution_count": 113,
   "metadata": {},
   "outputs": [
    {
     "name": "stdout",
     "output_type": "stream",
     "text": [
      "5/5 - 0s - loss: 120.9570 - accuracy: 0.8657 - 82ms/epoch - 16ms/step\n"
     ]
    },
    {
     "data": {
      "text/plain": [
       "[120.95696258544922, 0.8656716346740723]"
      ]
     },
     "execution_count": 113,
     "metadata": {},
     "output_type": "execute_result"
    }
   ],
   "source": [
    "#Validate the model\n",
    "\n",
    "model.evaluate(X_test, y_test, verbose=2)"
   ]
  }
 ],
 "metadata": {
  "kernelspec": {
   "display_name": "Python 3",
   "language": "python",
   "name": "python3"
  },
  "language_info": {
   "codemirror_mode": {
    "name": "ipython",
    "version": 3
   },
   "file_extension": ".py",
   "mimetype": "text/x-python",
   "name": "python",
   "nbconvert_exporter": "python",
   "pygments_lexer": "ipython3",
   "version": "3.9.5"
  }
 },
 "nbformat": 4,
 "nbformat_minor": 2
}
