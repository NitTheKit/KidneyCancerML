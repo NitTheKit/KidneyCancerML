{
 "cells": [
  {
   "cell_type": "code",
   "execution_count": 2,
   "metadata": {},
   "outputs": [],
   "source": [
    "\n",
    "import numpy as np\n",
    "import pandas as pd\n",
    "import matplotlib.pyplot as plt \n",
    "\n",
    "from sklearn.model_selection import train_test_split\n",
    "from sklearn.feature_selection import VarianceThreshold\n",
    "from sklearn.metrics import roc_curve\n",
    "from sklearn import metrics\n",
    "\n",
    "from sklearn.linear_model import Lasso\n",
    "from sklearn.model_selection import GridSearchCV, KFold"
   ]
  },
  {
   "cell_type": "code",
   "execution_count": 3,
   "metadata": {},
   "outputs": [
    {
     "name": "stdout",
     "output_type": "stream",
     "text": [
      "   LOC100130426  UBE2Q2P3  UBE2Q2P3.1  TIMM23  LOC155060  RNU12-2P    SSX9  \\\n",
      "0       -3.0863    0.3223     -0.7343  0.1476     0.9885   -0.1476 -0.9372   \n",
      "1       -3.0863    1.4031      1.3759 -1.3732     2.0512   -0.5081 -0.9372   \n",
      "2       -3.0863    1.5672      1.6364  0.4353     0.6953    1.2612 -0.9372   \n",
      "3       -3.0863    0.9756      1.2166  0.0829     0.2252    0.5166 -0.9372   \n",
      "4       -3.0863    1.2136      1.5562 -1.1680     0.5609    0.4829 -0.9372   \n",
      "\n",
      "    EZHIP  EFCAB8  SRP14P1  ...  ZSWIM6 Mutation  ZSWIM8 Mutation  \\\n",
      "0  0.6324  5.0700  -0.2790  ...                0                0   \n",
      "1 -0.3527 -0.5518   0.4855  ...                0                0   \n",
      "2 -1.5927  0.2084  -1.5463  ...                0                0   \n",
      "3 -0.8073 -1.5707  -2.1707  ...                0                1   \n",
      "4 -1.5927 -1.5707  -1.6107  ...                0                0   \n",
      "\n",
      "   ZUFSP Mutation  ZW10 Mutation  ZWINT Mutation  ZXDA Mutation  \\\n",
      "0               0              0               0              0   \n",
      "1               0              0               0              0   \n",
      "2               0              0               0              0   \n",
      "3               0              0               0              0   \n",
      "4               0              0               0              0   \n",
      "\n",
      "   ZXDC Mutation  ZYG11B Mutation  ZYX Mutation  ZZEF1 Mutation  \n",
      "0              0                0             0               0  \n",
      "1              0                0             0               0  \n",
      "2              0                0             0               0  \n",
      "3              0                0             0               0  \n",
      "4              1                0             0               0  \n",
      "\n",
      "[5 rows x 31300 columns]\n",
      "(366, 31300)\n"
     ]
    }
   ],
   "source": [
    "mrna_x = pd.read_csv('zscore_mutation.csv')\n",
    "mrna_x.drop(columns=mrna_x.columns[0], axis=1, inplace=True)\n",
    "print(mrna_x.head())\n",
    "\n",
    "#mrna_x.drop('target', axis=1, inplace=True)\n",
    "y = np.load('processed_recurrence_data_zscore_mutation.npy')\n",
    "print(mrna_x.shape)\n",
    "X_train, X_test, y_train, y_test = train_test_split(mrna_x.values, y,\n",
    "                                                    train_size=0.75, test_size=0.25)\n",
    "\n",
    "age = np.load('age_data_mutation.npy')\n",
    "gender = np.load('gender_data_mutation.npy')\n",
    "stage = np.load('stage_data_mutation.npy')"
   ]
  },
  {
   "cell_type": "code",
   "execution_count": 4,
   "metadata": {},
   "outputs": [
    {
     "name": "stdout",
     "output_type": "stream",
     "text": [
      "60.73451327433628 58.10276679841897 58.91530054644809\n"
     ]
    }
   ],
   "source": [
    "ave_r_age = 0\n",
    "ave_nr_age = 0\n",
    "r = 0\n",
    "nr = 0\n",
    "for i in range(len(age)):\n",
    "    if y[i] == 0:\n",
    "        nr = nr + 1\n",
    "        ave_nr_age = ave_nr_age + age[i]\n",
    "    else:\n",
    "        r = r + 1\n",
    "        ave_r_age = ave_r_age + age[i]\n",
    "\n",
    "print(ave_r_age/r, ave_nr_age/nr, (ave_nr_age+ave_r_age)/(nr+r))"
   ]
  },
  {
   "cell_type": "code",
   "execution_count": 5,
   "metadata": {},
   "outputs": [
    {
     "name": "stdout",
     "output_type": "stream",
     "text": [
      "Total age range 26 86\n",
      "No recurrance age range 26 86\n",
      "Yes recurrance age range 32 86\n"
     ]
    }
   ],
   "source": [
    "#age ranges for each condition\n",
    "age_nor = age[y == 0]\n",
    "age_r = age[y == 1]\n",
    "\n",
    "\n",
    "print(\"Total age range\", age.min(), age.max())\n",
    "print(\"No recurrance age range\", age_nor.min(), age_nor.max())\n",
    "print(\"Yes recurrance age range\", age_r.min(), age_r.max())\n",
    "\n"
   ]
  },
  {
   "cell_type": "code",
   "execution_count": 6,
   "metadata": {},
   "outputs": [
    {
     "name": "stdout",
     "output_type": "stream",
     "text": [
      "164 89 81 32\n"
     ]
    }
   ],
   "source": [
    "num_0_M = np.sum((y == 0) & (gender == 0))\n",
    "num_0_F = np.sum((y == 0) & (gender == 1))\n",
    "num_1_M = np.sum((y == 1) & (gender == 0))\n",
    "num_1_F = np.sum((y == 1) & (gender == 1))\n",
    "\n",
    "print(num_0_M, num_0_F, num_1_M, num_1_F)\n"
   ]
  },
  {
   "cell_type": "code",
   "execution_count": 7,
   "metadata": {},
   "outputs": [
    {
     "name": "stdout",
     "output_type": "stream",
     "text": [
      "0 -> Stage 0: 163\n",
      "0 -> Stage 1: 32\n",
      "0 -> Stage 2: 53\n",
      "0 -> Stage 3: 4\n",
      "0 -> Stage 4: 1\n",
      "1 -> Stage 0: 21\n",
      "1 -> Stage 1: 9\n",
      "1 -> Stage 2: 36\n",
      "1 -> Stage 3: 47\n",
      "1 -> Stage 4: 0\n"
     ]
    }
   ],
   "source": [
    "counts = {(i, j): np.sum((y == i) & (stage == j)) for i in [0, 1] for j in range(5)}\n",
    "\n",
    "# Print results\n",
    "for i in [0, 1]:\n",
    "    for j in range(5):\n",
    "        print(f\"{i} -> Stage {j}: {counts[(i, j)]}\")\n"
   ]
  },
  {
   "cell_type": "code",
   "execution_count": 8,
   "metadata": {},
   "outputs": [],
   "source": [
    "grade = np.load('grade_data_mutation.npy')\n",
    "ost = np.load('ost_data_mutation.npy')\n",
    "dfst = np.load('dfst_data_mutation.npy')\n",
    "surv = np.load('surv_data_mutation.npy')\n",
    "neoa = np.load('neoa_data_mutation.npy')\n",
    "prior = np.load('prior_data_mutation.npy')\n",
    "lat = np.load('lat_data_mutation.npy')"
   ]
  },
  {
   "cell_type": "code",
   "execution_count": 9,
   "metadata": {},
   "outputs": [
    {
     "name": "stdout",
     "output_type": "stream",
     "text": [
      "0 -> G0: 8\n",
      "0 -> G1: 132\n",
      "0 -> G2: 98\n",
      "0 -> G3: 11\n",
      "0 -> G4: 3\n",
      "0 -> G5: 1\n",
      "1 -> G0: 1\n",
      "1 -> G1: 27\n",
      "1 -> G2: 47\n",
      "1 -> G3: 38\n",
      "1 -> G4: 0\n",
      "1 -> G5: 0\n"
     ]
    }
   ],
   "source": [
    "#Grade clincial info\n",
    "grade_counts = {(i, j): np.sum((y == i) & (grade == j)) for i in [0, 1] for j in range(6)}\n",
    "\n",
    "# Print results\n",
    "for i in [0, 1]:\n",
    "    for j in range(6):\n",
    "        print(f\"{i} -> G{j}: {grade_counts[(i, j)]}\")\n"
   ]
  },
  {
   "cell_type": "code",
   "execution_count": 10,
   "metadata": {},
   "outputs": [
    {
     "name": "stdout",
     "output_type": "stream",
     "text": [
      "0 -> Side0: 147\n",
      "0 -> Side1: 106\n",
      "0 -> Side2: 0\n",
      "1 -> Side0: 51\n",
      "1 -> Side1: 62\n",
      "1 -> Side2: 0\n"
     ]
    }
   ],
   "source": [
    "#Laterality Info\n",
    "lat_counts = {(i, j): np.sum((y == i) & (lat == j)) for i in [0, 1] for j in range(3)}\n",
    "for i in [0, 1]:\n",
    "    for j in range(3):\n",
    "        print(f\"{i} -> Side{j}: {lat_counts[(i, j)]}\")\n"
   ]
  },
  {
   "cell_type": "code",
   "execution_count": 11,
   "metadata": {},
   "outputs": [
    {
     "name": "stdout",
     "output_type": "stream",
     "text": [
      "0 -> 0: 33\n",
      "0 -> 1: 220\n",
      "1 -> 0: 12\n",
      "1 -> 1: 101\n"
     ]
    }
   ],
   "source": [
    "#Prior Info\n",
    "prior_counts = {(i, j): np.sum((y == i) & (prior == j)) for i in [0, 1] for j in range(2)}\n",
    "for i in [0, 1]:\n",
    "    for j in range(2):\n",
    "        print(f\"{i} -> {j}: {prior_counts[(i, j)]}\")"
   ]
  },
  {
   "cell_type": "code",
   "execution_count": 12,
   "metadata": {},
   "outputs": [
    {
     "name": "stdout",
     "output_type": "stream",
     "text": [
      "0 -> 0: 249\n",
      "0 -> 1: 4\n",
      "1 -> 0: 108\n",
      "1 -> 1: 5\n"
     ]
    }
   ],
   "source": [
    "#Neo Info\n",
    "neoa_counts = {(i, j): np.sum((y == i) & (neoa == j)) for i in [0, 1] for j in range(2)}\n",
    "for i in [0, 1]:\n",
    "   for j in range(2):\n",
    "       print(f\"{i} -> {j}: {neoa_counts[(i, j)]}\")"
   ]
  },
  {
   "cell_type": "code",
   "execution_count": 13,
   "metadata": {},
   "outputs": [
    {
     "name": "stdout",
     "output_type": "stream",
     "text": [
      "0 -> 0: 253\n",
      "0 -> 1: 0\n",
      "1 -> 0: 44\n",
      "1 -> 1: 69\n"
     ]
    }
   ],
   "source": [
    "#Survival Status\n",
    "\n",
    "surv_counts = {(i, j): np.sum((y == i) & (surv == j)) for i in [0, 1] for j in range(2)}\n",
    "for i in [0, 1]:\n",
    "   for j in range(2):\n",
    "       print(f\"{i} -> {j}: {surv_counts[(i, j)]}\")"
   ]
  },
  {
   "cell_type": "code",
   "execution_count": 14,
   "metadata": {},
   "outputs": [
    {
     "name": "stdout",
     "output_type": "stream",
     "text": [
      "{0: 48.797391304347826, 1: 49.587699115044245}\n",
      "49.041393442622955\n"
     ]
    }
   ],
   "source": [
    "#Survival Months\n",
    "\n",
    "print({x: ost[y == x].mean() for x in [0,1]})\n",
    "print(ost.mean())\n"
   ]
  },
  {
   "cell_type": "code",
   "execution_count": 15,
   "metadata": {},
   "outputs": [
    {
     "name": "stdout",
     "output_type": "stream",
     "text": [
      "Total ost range 0.23 149.05\n",
      "No recurrance ost range 0.23 133.84\n",
      "Yes recurrance ost range 2.27 149.05\n"
     ]
    }
   ],
   "source": [
    "ost_nor = ost[y == 0]\n",
    "ost_r = ost[y == 1]\n",
    "\n",
    "\n",
    "print(\"Total ost range\", ost.min(), ost.max())\n",
    "print(\"No recurrance ost range\", ost_nor.min(), ost_nor.max())\n",
    "print(\"Yes recurrance ost range\", ost_r.min(), ost_r.max())"
   ]
  },
  {
   "cell_type": "code",
   "execution_count": 16,
   "metadata": {},
   "outputs": [
    {
     "name": "stdout",
     "output_type": "stream",
     "text": [
      "75 recurrance before 5 years out of 113 patients\n"
     ]
    }
   ],
   "source": [
    "print(np.sum(ost_r < 60), \"recurrance before 5 years out of\", len(ost_r),\"patients\" )\n"
   ]
  },
  {
   "cell_type": "code",
   "execution_count": 17,
   "metadata": {},
   "outputs": [
    {
     "name": "stdout",
     "output_type": "stream",
     "text": [
      "{0: 48.797391304347826, 1: 24.446194690265486}\n",
      "41.27912568306011\n"
     ]
    }
   ],
   "source": [
    "#DFS months\n",
    "dfst = dfst.astype(float)\n",
    "print({x: dfst[y == x].mean() for x in [0,1]})\n",
    "print(dfst.mean())"
   ]
  },
  {
   "cell_type": "code",
   "execution_count": 18,
   "metadata": {},
   "outputs": [
    {
     "name": "stdout",
     "output_type": "stream",
     "text": [
      "Total dfst range -11.79 133.84\n",
      "No recurrance dfst range 0.23 133.84\n",
      "Yes recurrance dfst range -11.79 123.72\n",
      "100 recurrance before 5 years out of 113 patients\n"
     ]
    }
   ],
   "source": [
    "\n",
    "dfst_nor = dfst[y == 0]\n",
    "dfst_r = dfst[y == 1]\n",
    "\n",
    "\n",
    "print(\"Total dfst range\", dfst.min(), dfst.max())\n",
    "print(\"No recurrance dfst range\", dfst_nor.min(), dfst_nor.max())\n",
    "print(\"Yes recurrance dfst range\", dfst_r.min(), dfst_r.max())\n",
    "print(np.sum(dfst_r < 60), \"recurrance before 5 years out of\", len(dfst_r),\"patients\" )\n"
   ]
  },
  {
   "cell_type": "code",
   "execution_count": 19,
   "metadata": {},
   "outputs": [
    {
     "name": "stdout",
     "output_type": "stream",
     "text": [
      "Time before recurrence -7.489999999999995 123.09\n"
     ]
    }
   ],
   "source": [
    "when_r = ost_r - dfst_r\n",
    "print(\"Time before recurrence\", when_r.min(), when_r.max())\n"
   ]
  },
  {
   "cell_type": "code",
   "execution_count": 20,
   "metadata": {},
   "outputs": [
    {
     "name": "stdout",
     "output_type": "stream",
     "text": [
      "25.141504424778763\n"
     ]
    }
   ],
   "source": [
    "print(np.mean(when_r))"
   ]
  },
  {
   "cell_type": "code",
   "execution_count": 21,
   "metadata": {},
   "outputs": [
    {
     "name": "stdout",
     "output_type": "stream",
     "text": [
      "100 patients had recurrance before 5 years out of 113 patients\n",
      "72 patient had recurrance before 5 years out of 113 patients\n"
     ]
    }
   ],
   "source": [
    "print(np.sum(dfst_r <= 60), \"patients had recurrance before 5 years out of\", len(dfst_r),\"patients\" )\n",
    "print(np.sum(dfst_r <= 24), \"patient had recurrance before 5 years out of\", len(dfst_r),\"patients\" )\n",
    "\n"
   ]
  },
  {
   "cell_type": "code",
   "execution_count": 22,
   "metadata": {},
   "outputs": [
    {
     "name": "stdout",
     "output_type": "stream",
     "text": [
      "Early recurrance ost range 2.27 126.18\n",
      "34.21611111111112 average survival\n"
     ]
    }
   ],
   "source": [
    "#early recurrance things\n",
    "ost_early_r = ost_r[dfst_r <= 24]\n",
    "print(\"Early recurrance ost range\", ost_early_r.min(), ost_early_r.max())\n",
    "print(np.mean(ost_early_r), \"average survival\")\n"
   ]
  },
  {
   "cell_type": "code",
   "execution_count": 23,
   "metadata": {},
   "outputs": [
    {
     "name": "stdout",
     "output_type": "stream",
     "text": [
      "Mid recurrance ost range 27.0 149.05\n",
      "68.1075 average survival\n"
     ]
    }
   ],
   "source": [
    "#Middle recurrance things\n",
    "ost_mid_r = ost_r[(dfst_r > 24) & (dfst_r < 60)]\n",
    "print(\"Mid recurrance ost range\", ost_mid_r.min(), ost_mid_r.max())\n",
    "print(np.mean(ost_mid_r), \"average survival\")"
   ]
  },
  {
   "cell_type": "code",
   "execution_count": 24,
   "metadata": {},
   "outputs": [
    {
     "name": "stdout",
     "output_type": "stream",
     "text": [
      "Late recurrance ost range 62.81 133.61\n",
      "94.83384615384615 average survival\n"
     ]
    }
   ],
   "source": [
    "#Late recurrance things\n",
    "ost_late_r = ost_r[dfst_r >= 60]\n",
    "print(\"Late recurrance ost range\", ost_late_r.min(), ost_late_r.max())\n",
    "print(np.mean(ost_late_r), \"average survival\")"
   ]
  },
  {
   "cell_type": "code",
   "execution_count": 25,
   "metadata": {},
   "outputs": [
    {
     "data": {
      "text/plain": [
       "Text(0, 0.5, 'Percent of Recurrence Patients (%)')"
      ]
     },
     "execution_count": 25,
     "metadata": {},
     "output_type": "execute_result"
    },
    {
     "data": {
      "image/png": "[encoded data removed]",
      "text/plain": [
       "<Figure size 640x480 with 1 Axes>"
      ]
     },
     "metadata": {},
     "output_type": "display_data"
    }
   ],
   "source": [
    "recur_values = [len(ost_early_r)/len(ost_r)*100, len(ost_mid_r)/len(ost_r)*100, len(ost_late_r)/len(ost_r)*100]\n",
    "\n",
    "plt.bar(['Early Recurrence ', 'Mid Recurrence ', 'Late Recurrence '], recur_values)\n",
    "\n",
    "# Add title and labels\n",
    "plt.title('Percentage of Recurrence Patients by Onset Time')\n",
    "plt.xlabel('Onset Time')\n",
    "plt.ylabel('Percent of Recurrence Patients (%)')"
   ]
  },
  {
   "cell_type": "code",
   "execution_count": null,
   "metadata": {},
   "outputs": [],
   "source": [
    "ost_r"
   ]
  },
  {
   "cell_type": "code",
   "execution_count": 34,
   "metadata": {},
   "outputs": [
    {
     "data": {
      "text/plain": [
       "array([  0.53,  49.05,  48.98,  37.12,  49.54,  48.55,  36.33,  37.35,\n",
       "        48.78,   4.5 ,  52.89,  45.5 ,  88.3 ,  42.94,  51.22,  10.48,\n",
       "        28.68,  74.57,  74.7 ,  24.15,  53.25,  43.17,  20.7 ,  18.63,\n",
       "        18.86,  28.29,  65.47,  20.27, 109.82, 117.71, 122.47, 109.33,\n",
       "        68.56, 109.43,  94.12,  46.75,  48.32,  78.58,  39.98,  94.22,\n",
       "        83.15,  28.71,  37.55,  38.37,  82.39,  72.83,  12.12,  40.67,\n",
       "         1.41,  57.65,  58.41,  15.7 ,  46.55,  16.75,  29.07,  45.27,\n",
       "         6.7 ,  56.64,  10.28,  65.24,  39.42,  29.01,   2.27,  36.83,\n",
       "        11.24,  11.89,   7.29,  10.94,  21.85,  62.84,  90.8 ,  30.45,\n",
       "        58.54,  19.28,  66.  ,  38.6 ,  52.69,  41.85,  52.83,  50.99,\n",
       "        38.4 ,  48.78,  46.35,  56.93,  42.38, 112.71, 129.57, 133.84,\n",
       "        15.77,  70.63,  85.71,  86.4 , 119.28, 126.18,  80.85,  71.35,\n",
       "        73.78, 149.05, 105.29, 123.  , 130.55,  79.83, 131.04,  89.42,\n",
       "        91.39, 125.95,  32.59,  35.87,  31.93,  21.29,  31.64,  24.8 ,\n",
       "        21.55,  11.99,   5.09,   1.25,   0.53,   4.63,   5.45,   0.36,\n",
       "         0.23,  16.79,  49.93,  42.67,  25.03,  45.34,  17.18,  25.53,\n",
       "        25.89,  50.1 ,  40.01,  23.72,   1.18,  27.  ,   0.85,  24.21,\n",
       "        50.1 ,  16.59,   6.37,  48.49,   0.53,  34.36,  14.29, 110.94,\n",
       "        85.45,  94.65,  90.21, 100.99,  93.27,  99.77,   0.43,  89.29,\n",
       "        23.03,  62.19,  61.73,  64.22,  54.86,  53.38,  27.76,  62.02,\n",
       "        93.92,  74.11,  62.81,  49.8 ,  44.91,  12.22,  31.87,  11.3 ,\n",
       "        33.97,  12.29,  72.54,  77.92,  77.56,   5.98,  71.75,  48.03,\n",
       "        13.14,  10.81,   5.32,  61.93,  60.55,  56.87,  68.33,  11.63,\n",
       "        15.77,  48.92,  20.37,  36.37,  37.22,  36.93,   6.7 ,  47.93,\n",
       "         6.93,  71.35,  63.57,  58.64,  60.25,  61.17,  61.47,   6.73,\n",
       "        57.36,  14.22,  48.85,  49.34,  45.47,   6.93,  47.08,  53.61,\n",
       "        14.91,  33.31,  46.42,  31.27,  25.79,  36.93,   3.88,  46.42,\n",
       "        16.46,   5.81,  42.97,  45.04,  30.62,  41.59,  18.5 ,  38.67,\n",
       "        36.99,  27.6 ,  37.45,  35.18,  35.87,  28.84,   6.34,  79.24,\n",
       "        74.15,  30.62,   9.63,  62.81,  74.34,  49.11,  38.27,  42.41,\n",
       "        37.22,  37.19,  22.77,  13.34,  27.  ,  33.21,  31.77,  23.46,\n",
       "        13.4 ,  24.61,  33.44,  19.81,  44.51,  34.92,  31.24,   0.95,\n",
       "       114.91,  46.52,  63.21,  73.16,  14.16, 106.08, 114.32,  54.57,\n",
       "        58.9 ,  11.04,  21.22,  83.9 ,  49.21,  79.6 ,  47.14,  74.21,\n",
       "        75.  , 116.75,  64.22,  71.81,  66.16,  61.86,  57.79, 113.37,\n",
       "        64.13,  30.62,  51.48,  63.93, 115.6 ,  49.97,  24.64,  27.63,\n",
       "        39.42, 109.76,  50.2 ,  47.63,  49.93,  51.25, 108.48,  49.15,\n",
       "        49.24,  50.3 ,  54.43,  45.11,   3.06,  18.79, 130.98, 129.3 ,\n",
       "       133.61,  25.69,  18.86,  22.31,  25.23,  18.13, 122.73,  62.06,\n",
       "        73.29,  66.95,  53.38,  62.61, 119.55,   7.36,  91.95,  81.77,\n",
       "        85.71,  66.26,  78.12,  74.61,  83.84, 103.35,  18.76,  25.43,\n",
       "         0.59,  47.04,  69.15,  58.71, 107.46,  63.34, 107.33,  63.37,\n",
       "        58.77,  23.72,  79.57,  90.47,  91.62,  55.29,  94.38,  10.84,\n",
       "        21.75,  22.5 ,   2.4 ,  31.08,  12.68,  80.12,  67.9 ,  65.6 ,\n",
       "        12.25,  14.62,  22.77,  62.58,  43.66,  45.93,  12.16,  11.66,\n",
       "        66.23,  56.8 ,  18.1 ,   3.91,   6.77,   4.17])"
      ]
     },
     "execution_count": 34,
     "metadata": {},
     "output_type": "execute_result"
    }
   ],
   "source": [
    "ost"
   ]
  }
 ],
 "metadata": {
  "kernelspec": {
   "display_name": "Python 3",
   "language": "python",
   "name": "python3"
  },
  "language_info": {
   "codemirror_mode": {
    "name": "ipython",
    "version": 3
   },
   "file_extension": ".py",
   "mimetype": "text/x-python",
   "name": "python",
   "nbconvert_exporter": "python",
   "pygments_lexer": "ipython3",
   "version": "3.9.5"
  }
 },
 "nbformat": 4,
 "nbformat_minor": 2
}
