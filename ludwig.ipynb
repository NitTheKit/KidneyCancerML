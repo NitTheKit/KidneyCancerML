{
 "cells": [
  {
   "cell_type": "code",
   "execution_count": 1,
   "metadata": {},
   "outputs": [
    {
     "name": "stderr",
     "output_type": "stream",
     "text": [
      "c:\\Python39\\lib\\site-packages\\tqdm\\auto.py:21: TqdmWarning: IProgress not found. Please update jupyter and ipywidgets. See https://ipywidgets.readthedocs.io/en/stable/user_install.html\n",
      "  from .autonotebook import tqdm as notebook_tqdm\n",
      "c:\\Python39\\lib\\site-packages\\bitsandbytes\\cextension.py:34: UserWarning: The installed version of bitsandbytes was compiled without GPU support. 8-bit optimizers, 8-bit multiplication, and GPU quantization are unavailable.\n",
      "  warn(\"The installed version of bitsandbytes was compiled without GPU support. \"\n"
     ]
    },
    {
     "name": "stdout",
     "output_type": "stream",
     "text": [
      "'NoneType' object has no attribute 'cadam32bit_grad_fp32'\n",
      "From c:\\Python39\\lib\\site-packages\\keras\\src\\losses.py:2976: The name tf.losses.sparse_softmax_cross_entropy is deprecated. Please use tf.compat.v1.losses.sparse_softmax_cross_entropy instead.\n",
      "\n"
     ]
    }
   ],
   "source": [
    "import logging\n",
    "import pprint\n",
    "\n",
    "from ludwig.automl import auto_train\n",
    "from ludwig.datasets import mushroom_edibility\n",
    "from ludwig.utils.dataset_utils import get_repeatable_train_val_test_split\n",
    "\n"
   ]
  },
  {
   "cell_type": "code",
   "execution_count": 2,
   "metadata": {},
   "outputs": [
    {
     "name": "stdout",
     "output_type": "stream",
     "text": [
      "  class cap-shape cap-surface cap-color bruises? odor gill-attachment  \\\n",
      "0     e         x           s         y        t    a               f   \n",
      "1     e         b           s         w        t    l               f   \n",
      "2     p         x           y         w        t    p               f   \n",
      "3     e         x           s         g        f    n               f   \n",
      "4     e         x           y         y        t    a               f   \n",
      "\n",
      "  gill-spacing gill-size gill-color  ... stalk-color-above-ring  \\\n",
      "0            c         b          k  ...                      w   \n",
      "1            c         b          n  ...                      w   \n",
      "2            c         n          n  ...                      w   \n",
      "3            w         b          k  ...                      w   \n",
      "4            c         b          n  ...                      w   \n",
      "\n",
      "  stalk-color-below-ring veil-type veil-color ring-number ring-type  \\\n",
      "0                      w         p          w           o         p   \n",
      "1                      w         p          w           o         p   \n",
      "2                      w         p          w           o         p   \n",
      "3                      w         p          w           o         e   \n",
      "4                      w         p          w           o         p   \n",
      "\n",
      "  spore-print-color population habitat split  \n",
      "0                 n          n       g     0  \n",
      "1                 n          n       m     0  \n",
      "2                 k          s       u     0  \n",
      "3                 n          a       g     0  \n",
      "4                 k          n       g     0  \n",
      "\n",
      "[5 rows x 24 columns]\n"
     ]
    }
   ],
   "source": [
    "mushroom_df = mushroom_edibility.load()\n",
    "print(mushroom_df.head())\n"
   ]
  },
  {
   "cell_type": "code",
   "execution_count": 3,
   "metadata": {},
   "outputs": [
    {
     "name": "stderr",
     "output_type": "stream",
     "text": [
      "Analyzing fields:   0%|          | 0/24 [00:00<?, ?it/s]"
     ]
    },
    {
     "name": "stdout",
     "output_type": "stream",
     "text": [
      "Analyzing field: class\n",
      "Calculating average number tokens for field class using sample of 100 rows.\n",
      "Analyzing field: cap-shape\n",
      "Calculating average number tokens for field cap-shape using sample of 100 rows.\n",
      "Analyzing field: cap-surface\n",
      "Calculating average number tokens for field cap-surface using sample of 100 rows.\n",
      "Analyzing field: cap-color\n",
      "Calculating average number tokens for field cap-color using sample of 100 rows.\n",
      "Analyzing field: bruises?\n",
      "Calculating average number tokens for field bruises? using sample of 100 rows.\n",
      "Analyzing field: odor\n",
      "Calculating average number tokens for field odor using sample of 100 rows.\n",
      "Analyzing field: gill-attachment\n",
      "Calculating average number tokens for field gill-attachment using sample of 100 rows.\n",
      "Analyzing field: gill-spacing\n",
      "Calculating average number tokens for field gill-spacing using sample of 100 rows.\n",
      "Analyzing field: gill-size\n",
      "Calculating average number tokens for field gill-size using sample of 100 rows.\n",
      "Analyzing field: gill-color\n",
      "Calculating average number tokens for field gill-color using sample of 100 rows.\n",
      "Analyzing field: stalk-shape\n",
      "Calculating average number tokens for field stalk-shape using sample of 100 rows.\n",
      "Analyzing field: stalk-root\n",
      "Calculating average number tokens for field stalk-root using sample of 100 rows.\n",
      "Analyzing field: stalk-surface-above-ring\n",
      "Calculating average number tokens for field stalk-surface-above-ring using sample of 100 rows.\n",
      "Analyzing field: stalk-surface-below-ring\n",
      "Calculating average number tokens for field stalk-surface-below-ring using sample of 100 rows.\n",
      "Analyzing field: stalk-color-above-ring\n",
      "Calculating average number tokens for field stalk-color-above-ring using sample of 100 rows.\n",
      "Analyzing field: stalk-color-below-ring\n",
      "Calculating average number tokens for field stalk-color-below-ring using sample of 100 rows.\n",
      "Analyzing field: veil-type\n",
      "Calculating average number tokens for field veil-type using sample of 100 rows.\n",
      "Analyzing field: veil-color\n",
      "Calculating average number tokens for field veil-color using sample of 100 rows.\n",
      "Analyzing field: ring-number\n",
      "Calculating average number tokens for field ring-number using sample of 100 rows.\n",
      "Analyzing field: ring-type\n",
      "Calculating average number tokens for field ring-type using sample of 100 rows.\n",
      "Analyzing field: spore-print-color\n",
      "Calculating average number tokens for field spore-print-color using sample of 100 rows.\n",
      "Analyzing field: population\n",
      "Calculating average number tokens for field population using sample of 100 rows.\n"
     ]
    },
    {
     "name": "stderr",
     "output_type": "stream",
     "text": [
      "Analyzing fields:  92%|█████████▏| 22/24 [00:00<00:00, 219.26it/s]"
     ]
    },
    {
     "name": "stdout",
     "output_type": "stream",
     "text": [
      "Analyzing field: habitat\n",
      "Calculating average number tokens for field habitat using sample of 100 rows.\n",
      "Analyzing field: split\n"
     ]
    },
    {
     "name": "stderr",
     "output_type": "stream",
     "text": [
      "Analyzing fields: 100%|██████████| 24/24 [00:00<00:00, 225.68it/s]"
     ]
    },
    {
     "name": "stdout",
     "output_type": "stream",
     "text": [
      "Exclude veil-type (category): less than 2 distinct values\n",
      "Exclude veil-type (category): less than 2 distinct values\n"
     ]
    },
    {
     "name": "stderr",
     "output_type": "stream",
     "text": [
      "\n",
      "c:\\Python39\\lib\\site-packages\\ludwig\\schema\\model_types\\utils.py:242: UserWarning: Can't utilize `early_stop` while using a hyperopt scheduler. Setting early stop to -1.\n",
      "  warnings.warn(\"Can't utilize `early_stop` while using a hyperopt scheduler. Setting early stop to -1.\")\n"
     ]
    },
    {
     "name": "stdout",
     "output_type": "stream",
     "text": [
      "Initializing new Ray cluster...\n"
     ]
    },
    {
     "name": "stderr",
     "output_type": "stream",
     "text": [
      "2023-11-24 15:30:00,253\tINFO worker.py:1544 -- Started a local Ray instance. View the dashboard at \u001b[1m\u001b[32m127.0.0.1:8265 \u001b[39m\u001b[22m\n"
     ]
    }
   ],
   "source": [
    "mushroom_edibility_df = get_repeatable_train_val_test_split(mushroom_df, 'class', random_seed=42)\n",
    "\n",
    "auto_train_results = auto_train(\n",
    "    dataset=mushroom_edibility_df,\n",
    "    target='class',\n",
    "    time_limit_s=100,\n",
    "    tune_for_memory=False,\n",
    "    user_config={'preprocessing': {'split': {'column': 'split', 'type': 'fixed'}}},\n",
    ")\n",
    "\n"
   ]
  },
  {
   "cell_type": "code",
   "execution_count": null,
   "metadata": {},
   "outputs": [],
   "source": [
    "pprint.pprint(auto_train_results)"
   ]
  },
  {
   "cell_type": "code",
   "execution_count": 1,
   "metadata": {},
   "outputs": [
    {
     "name": "stderr",
     "output_type": "stream",
     "text": [
      "c:\\Python39\\lib\\site-packages\\tqdm\\auto.py:21: TqdmWarning: IProgress not found. Please update jupyter and ipywidgets. See https://ipywidgets.readthedocs.io/en/stable/user_install.html\n",
      "  from .autonotebook import tqdm as notebook_tqdm\n",
      "c:\\Python39\\lib\\site-packages\\bitsandbytes\\cextension.py:34: UserWarning: The installed version of bitsandbytes was compiled without GPU support. 8-bit optimizers, 8-bit multiplication, and GPU quantization are unavailable.\n",
      "  warn(\"The installed version of bitsandbytes was compiled without GPU support. \"\n"
     ]
    },
    {
     "name": "stdout",
     "output_type": "stream",
     "text": [
      "'NoneType' object has no attribute 'cadam32bit_grad_fp32'\n",
      "From c:\\Python39\\lib\\site-packages\\keras\\src\\losses.py:2976: The name tf.losses.sparse_softmax_cross_entropy is deprecated. Please use tf.compat.v1.losses.sparse_softmax_cross_entropy instead.\n",
      "\n"
     ]
    },
    {
     "name": "stderr",
     "output_type": "stream",
     "text": [
      "Analyzing fields:   0%|          | 0/24 [00:00<?, ?it/s]"
     ]
    },
    {
     "name": "stdout",
     "output_type": "stream",
     "text": [
      "Analyzing field: class\n",
      "Calculating average number tokens for field class using sample of 100 rows.\n",
      "Analyzing field: cap-shape\n",
      "Calculating average number tokens for field cap-shape using sample of 100 rows.\n",
      "Analyzing field: cap-surface\n",
      "Calculating average number tokens for field cap-surface using sample of 100 rows.\n",
      "Analyzing field: cap-color\n",
      "Calculating average number tokens for field cap-color using sample of 100 rows.\n",
      "Analyzing field: bruises?\n",
      "Calculating average number tokens for field bruises? using sample of 100 rows.\n",
      "Analyzing field: odor\n",
      "Calculating average number tokens for field odor using sample of 100 rows.\n",
      "Analyzing field: gill-attachment\n",
      "Calculating average number tokens for field gill-attachment using sample of 100 rows.\n",
      "Analyzing field: gill-spacing\n",
      "Calculating average number tokens for field gill-spacing using sample of 100 rows.\n",
      "Analyzing field: gill-size\n",
      "Calculating average number tokens for field gill-size using sample of 100 rows.\n",
      "Analyzing field: gill-color\n",
      "Calculating average number tokens for field gill-color using sample of 100 rows.\n",
      "Analyzing field: stalk-shape\n",
      "Calculating average number tokens for field stalk-shape using sample of 100 rows.\n",
      "Analyzing field: stalk-root\n",
      "Calculating average number tokens for field stalk-root using sample of 100 rows.\n",
      "Analyzing field: stalk-surface-above-ring\n",
      "Calculating average number tokens for field stalk-surface-above-ring using sample of 100 rows.\n",
      "Analyzing field: stalk-surface-below-ring\n",
      "Calculating average number tokens for field stalk-surface-below-ring using sample of 100 rows.\n",
      "Analyzing field: stalk-color-above-ring\n",
      "Calculating average number tokens for field stalk-color-above-ring using sample of 100 rows.\n",
      "Analyzing field: stalk-color-below-ring\n",
      "Calculating average number tokens for field stalk-color-below-ring using sample of 100 rows.\n",
      "Analyzing field: veil-type\n",
      "Calculating average number tokens for field veil-type using sample of 100 rows.\n",
      "Analyzing field: veil-color\n",
      "Calculating average number tokens for field veil-color using sample of 100 rows.\n",
      "Analyzing field: ring-number\n",
      "Calculating average number tokens for field ring-number using sample of 100 rows.\n",
      "Analyzing field: ring-type\n",
      "Calculating average number tokens for field ring-type using sample of 100 rows.\n",
      "Analyzing field: spore-print-color\n",
      "Calculating average number tokens for field spore-print-color using sample of 100 rows.\n"
     ]
    },
    {
     "name": "stderr",
     "output_type": "stream",
     "text": [
      "Analyzing fields:  88%|████████▊ | 21/24 [00:00<00:00, 203.86it/s]"
     ]
    },
    {
     "name": "stdout",
     "output_type": "stream",
     "text": [
      "Analyzing field: population\n",
      "Calculating average number tokens for field population using sample of 100 rows.\n",
      "Analyzing field: habitat\n",
      "Calculating average number tokens for field habitat using sample of 100 rows.\n",
      "Analyzing field: split\n"
     ]
    },
    {
     "name": "stderr",
     "output_type": "stream",
     "text": [
      "Analyzing fields: 100%|██████████| 24/24 [00:00<00:00, 201.29it/s]"
     ]
    },
    {
     "name": "stdout",
     "output_type": "stream",
     "text": [
      "Exclude veil-type (category): less than 2 distinct values\n",
      "Exclude veil-type (category): less than 2 distinct values\n"
     ]
    },
    {
     "name": "stderr",
     "output_type": "stream",
     "text": [
      "\n",
      "c:\\Python39\\lib\\site-packages\\ludwig\\schema\\model_types\\utils.py:242: UserWarning: Can't utilize `early_stop` while using a hyperopt scheduler. Setting early stop to -1.\n",
      "  warnings.warn(\"Can't utilize `early_stop` while using a hyperopt scheduler. Setting early stop to -1.\")\n"
     ]
    },
    {
     "name": "stdout",
     "output_type": "stream",
     "text": [
      "Initializing new Ray cluster...\n"
     ]
    },
    {
     "name": "stderr",
     "output_type": "stream",
     "text": [
      "2023-11-24 15:34:48,400\tINFO worker.py:1544 -- Started a local Ray instance. View the dashboard at \u001b[1m\u001b[32m127.0.0.1:8265 \u001b[39m\u001b[22m\n"
     ]
    }
   ],
   "source": [
    "import logging\n",
    "import pprint\n",
    "\n",
    "from ludwig.automl import auto_train\n",
    "from ludwig.datasets import mushroom_edibility\n",
    "from ludwig.utils.dataset_utils import get_repeatable_train_val_test_split\n",
    "\n",
    "mushroom_df = mushroom_edibility.load()\n",
    "mushroom_edibility_df = get_repeatable_train_val_test_split(mushroom_df, 'class', random_seed=42)\n",
    "\n",
    "auto_train_results = auto_train(\n",
    "    dataset=mushroom_edibility_df,\n",
    "    target='class',\n",
    "    time_limit_s=7200,\n",
    "    tune_for_memory=False,\n",
    "    user_config={'preprocessing': {'split': {'column': 'split', 'type': 'fixed'}}},\n",
    ")\n",
    "\n",
    "pprint.pprint(auto_train_results)"
   ]
  }
 ],
 "metadata": {
  "kernelspec": {
   "display_name": "Python 3",
   "language": "python",
   "name": "python3"
  },
  "language_info": {
   "codemirror_mode": {
    "name": "ipython",
    "version": 3
   },
   "file_extension": ".py",
   "mimetype": "text/x-python",
   "name": "python",
   "nbconvert_exporter": "python",
   "pygments_lexer": "ipython3",
   "version": "3.9.5"
  }
 },
 "nbformat": 4,
 "nbformat_minor": 2
}
