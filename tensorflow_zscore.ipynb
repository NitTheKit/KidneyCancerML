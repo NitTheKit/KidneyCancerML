{
 "cells": [
  {
   "cell_type": "code",
   "execution_count": 1,
   "metadata": {},
   "outputs": [
    {
     "name": "stdout",
     "output_type": "stream",
     "text": [
      "WARNING:tensorflow:From c:\\Python39\\lib\\site-packages\\keras\\src\\losses.py:2976: The name tf.losses.sparse_softmax_cross_entropy is deprecated. Please use tf.compat.v1.losses.sparse_softmax_cross_entropy instead.\n",
      "\n"
     ]
    }
   ],
   "source": [
    "#Import needed packages\n",
    "\n",
    "import tensorflow as tf\n",
    "from tensorflow.keras.layers import Dense, Flatten, Conv2D\n",
    "from tensorflow.keras import Model\n",
    "\n",
    "import numpy as np\n",
    "import pandas as pd\n",
    "\n",
    "from sklearn.model_selection import train_test_split"
   ]
  },
  {
   "cell_type": "code",
   "execution_count": 2,
   "metadata": {},
   "outputs": [],
   "source": [
    "#load preprocessed data\n",
    "\n",
    "mrna_x = np.load('processed_mrna_data_zscore.npy')\n",
    "y = np.load('processed_recurrence_data_zscore.npy')\n",
    "X_train, X_test, y_train, y_test = train_test_split(mrna_x, y,\n",
    "                                                    train_size=0.75, test_size=0.25)\n"
   ]
  },
  {
   "cell_type": "code",
   "execution_count": 3,
   "metadata": {},
   "outputs": [
    {
     "name": "stdout",
     "output_type": "stream",
     "text": [
      "WARNING:tensorflow:From c:\\Python39\\lib\\site-packages\\keras\\src\\backend.py:873: The name tf.get_default_graph is deprecated. Please use tf.compat.v1.get_default_graph instead.\n",
      "\n"
     ]
    }
   ],
   "source": [
    "#make and compile the Neural Network model\n",
    "\n",
    "model = tf.keras.models.Sequential([\n",
    "  tf.keras.layers.Dense(200, input_shape=(20531,),activation=tf.nn.relu),\n",
    "  tf.keras.layers.Dense(10, activation=tf.nn.relu),\n",
    "  tf.keras.layers.Dense(2)\n",
    "\n",
    "])\n",
    "\n",
    "model.compile(loss = tf.keras.losses.SparseCategoricalCrossentropy(from_logits=True),\n",
    "                      optimizer = tf.keras.optimizers.Adam(), metrics=['accuracy'])"
   ]
  },
  {
   "cell_type": "code",
   "execution_count": 4,
   "metadata": {},
   "outputs": [
    {
     "name": "stdout",
     "output_type": "stream",
     "text": [
      "Epoch 1/25\n",
      "WARNING:tensorflow:From c:\\Python39\\lib\\site-packages\\keras\\src\\utils\\tf_utils.py:492: The name tf.ragged.RaggedTensorValue is deprecated. Please use tf.compat.v1.ragged.RaggedTensorValue instead.\n",
      "\n",
      "WARNING:tensorflow:From c:\\Python39\\lib\\site-packages\\keras\\src\\engine\\base_layer_utils.py:384: The name tf.executing_eagerly_outside_functions is deprecated. Please use tf.compat.v1.executing_eagerly_outside_functions instead.\n",
      "\n",
      "13/13 [==============================] - 1s 28ms/step - loss: 0.6891 - accuracy: 0.8521 - val_loss: 0.6839 - val_accuracy: 0.8657\n",
      "Epoch 2/25\n",
      "13/13 [==============================] - 0s 14ms/step - loss: 0.6803 - accuracy: 0.8521 - val_loss: 0.6749 - val_accuracy: 0.8657\n",
      "Epoch 3/25\n",
      "13/13 [==============================] - 0s 14ms/step - loss: 0.6717 - accuracy: 0.8521 - val_loss: 0.6661 - val_accuracy: 0.8657\n",
      "Epoch 4/25\n",
      "13/13 [==============================] - 0s 17ms/step - loss: 0.6632 - accuracy: 0.8521 - val_loss: 0.6573 - val_accuracy: 0.8657\n",
      "Epoch 5/25\n",
      "13/13 [==============================] - 0s 18ms/step - loss: 0.6551 - accuracy: 0.8521 - val_loss: 0.6488 - val_accuracy: 0.8657\n",
      "Epoch 6/25\n",
      "13/13 [==============================] - 0s 23ms/step - loss: 0.6470 - accuracy: 0.8521 - val_loss: 0.6407 - val_accuracy: 0.8657\n",
      "Epoch 7/25\n",
      "13/13 [==============================] - 0s 18ms/step - loss: 0.6393 - accuracy: 0.8521 - val_loss: 0.6327 - val_accuracy: 0.8657\n",
      "Epoch 8/25\n",
      "13/13 [==============================] - 0s 19ms/step - loss: 0.6319 - accuracy: 0.8521 - val_loss: 0.6249 - val_accuracy: 0.8657\n",
      "Epoch 9/25\n",
      "13/13 [==============================] - 0s 18ms/step - loss: 0.6245 - accuracy: 0.8521 - val_loss: 0.6175 - val_accuracy: 0.8657\n",
      "Epoch 10/25\n",
      "13/13 [==============================] - 0s 17ms/step - loss: 0.6175 - accuracy: 0.8521 - val_loss: 0.6103 - val_accuracy: 0.8657\n",
      "Epoch 11/25\n",
      "13/13 [==============================] - 0s 15ms/step - loss: 0.6106 - accuracy: 0.8521 - val_loss: 0.6032 - val_accuracy: 0.8657\n",
      "Epoch 12/25\n",
      "13/13 [==============================] - 0s 21ms/step - loss: 0.6039 - accuracy: 0.8521 - val_loss: 0.5963 - val_accuracy: 0.8657\n",
      "Epoch 13/25\n",
      "13/13 [==============================] - 0s 17ms/step - loss: 0.5975 - accuracy: 0.8521 - val_loss: 0.5895 - val_accuracy: 0.8657\n",
      "Epoch 14/25\n",
      "13/13 [==============================] - 0s 16ms/step - loss: 0.5911 - accuracy: 0.8521 - val_loss: 0.5833 - val_accuracy: 0.8657\n",
      "Epoch 15/25\n",
      "13/13 [==============================] - 0s 15ms/step - loss: 0.5852 - accuracy: 0.8521 - val_loss: 0.5772 - val_accuracy: 0.8657\n",
      "Epoch 16/25\n",
      "13/13 [==============================] - 0s 16ms/step - loss: 0.5794 - accuracy: 0.8521 - val_loss: 0.5711 - val_accuracy: 0.8657\n",
      "Epoch 17/25\n",
      "13/13 [==============================] - 0s 17ms/step - loss: 0.5738 - accuracy: 0.8521 - val_loss: 0.5651 - val_accuracy: 0.8657\n",
      "Epoch 18/25\n",
      "13/13 [==============================] - 0s 15ms/step - loss: 0.5682 - accuracy: 0.8521 - val_loss: 0.5592 - val_accuracy: 0.8657\n",
      "Epoch 19/25\n",
      "13/13 [==============================] - 0s 15ms/step - loss: 0.5628 - accuracy: 0.8521 - val_loss: 0.5538 - val_accuracy: 0.8657\n",
      "Epoch 20/25\n",
      "13/13 [==============================] - 0s 15ms/step - loss: 0.5578 - accuracy: 0.8521 - val_loss: 0.5486 - val_accuracy: 0.8657\n",
      "Epoch 21/25\n",
      "13/13 [==============================] - 0s 15ms/step - loss: 0.5529 - accuracy: 0.8521 - val_loss: 0.5436 - val_accuracy: 0.8657\n",
      "Epoch 22/25\n",
      "13/13 [==============================] - 0s 16ms/step - loss: 0.5481 - accuracy: 0.8521 - val_loss: 0.5387 - val_accuracy: 0.8657\n",
      "Epoch 23/25\n",
      "13/13 [==============================] - 0s 16ms/step - loss: 0.5436 - accuracy: 0.8521 - val_loss: 0.5338 - val_accuracy: 0.8657\n",
      "Epoch 24/25\n",
      "13/13 [==============================] - 0s 15ms/step - loss: 0.5390 - accuracy: 0.8521 - val_loss: 0.5291 - val_accuracy: 0.8657\n",
      "Epoch 25/25\n",
      "13/13 [==============================] - 0s 15ms/step - loss: 0.5347 - accuracy: 0.8521 - val_loss: 0.5244 - val_accuracy: 0.8657\n"
     ]
    },
    {
     "data": {
      "text/plain": [
       "<keras.src.callbacks.History at 0x28de160dd60>"
      ]
     },
     "execution_count": 4,
     "metadata": {},
     "output_type": "execute_result"
    }
   ],
   "source": [
    "#Train the model on the cBioPortal data\n",
    "\n",
    "model.fit(X_train, y_train, epochs=25, validation_data=(X_test, y_test))"
   ]
  },
  {
   "cell_type": "code",
   "execution_count": 5,
   "metadata": {},
   "outputs": [
    {
     "name": "stdout",
     "output_type": "stream",
     "text": [
      "5/5 - 0s - loss: 0.5244 - accuracy: 0.8657 - 38ms/epoch - 8ms/step\n"
     ]
    },
    {
     "data": {
      "text/plain": [
       "[0.524416446685791, 0.8656716346740723]"
      ]
     },
     "execution_count": 5,
     "metadata": {},
     "output_type": "execute_result"
    }
   ],
   "source": [
    "#Validate the model\n",
    "\n",
    "model.evaluate(X_test, y_test, verbose=2)"
   ]
  }
 ],
 "metadata": {
  "kernelspec": {
   "display_name": "Python 3",
   "language": "python",
   "name": "python3"
  },
  "language_info": {
   "codemirror_mode": {
    "name": "ipython",
    "version": 3
   },
   "file_extension": ".py",
   "mimetype": "text/x-python",
   "name": "python",
   "nbconvert_exporter": "python",
   "pygments_lexer": "ipython3",
   "version": "3.9.5"
  }
 },
 "nbformat": 4,
 "nbformat_minor": 2
}
