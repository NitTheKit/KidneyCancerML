{
 "cells": [
  {
   "cell_type": "code",
   "execution_count": 1,
   "metadata": {},
   "outputs": [
    {
     "name": "stdout",
     "output_type": "stream",
     "text": [
      "WARNING:tensorflow:From c:\\Python39\\lib\\site-packages\\keras\\src\\losses.py:2976: The name tf.losses.sparse_softmax_cross_entropy is deprecated. Please use tf.compat.v1.losses.sparse_softmax_cross_entropy instead.\n",
      "\n"
     ]
    }
   ],
   "source": [
    "#Import needed packages\n",
    "\n",
    "import tensorflow as tf\n",
    "from tensorflow.keras.layers import Dense, Flatten, Conv2D\n",
    "from tensorflow.keras import Model\n",
    "\n",
    "import numpy as np\n",
    "import pandas as pd\n",
    "import matplotlib.pyplot as plt \n",
    "\n",
    "from sklearn.model_selection import train_test_split\n",
    "from sklearn.feature_selection import VarianceThreshold\n",
    "from sklearn.metrics import roc_curve\n",
    "from sklearn import metrics\n",
    "\n",
    "from sklearn.linear_model import Lasso\n",
    "from sklearn.model_selection import GridSearchCV, KFold\n"
   ]
  },
  {
   "cell_type": "code",
   "execution_count": 2,
   "metadata": {},
   "outputs": [
    {
     "name": "stderr",
     "output_type": "stream",
     "text": [
      "c:\\Python39\\lib\\site-packages\\sklearn\\utils\\validation.py:767: FutureWarning: is_sparse is deprecated and will be removed in a future version. Check `isinstance(dtype, pd.SparseDtype)` instead.\n",
      "  if not hasattr(array, \"sparse\") and array.dtypes.apply(is_sparse).any():\n",
      "c:\\Python39\\lib\\site-packages\\sklearn\\utils\\validation.py:605: FutureWarning: is_sparse is deprecated and will be removed in a future version. Check `isinstance(dtype, pd.SparseDtype)` instead.\n",
      "  if is_sparse(pd_dtype):\n",
      "c:\\Python39\\lib\\site-packages\\sklearn\\utils\\validation.py:614: FutureWarning: is_sparse is deprecated and will be removed in a future version. Check `isinstance(dtype, pd.SparseDtype)` instead.\n",
      "  if is_sparse(pd_dtype) or not is_extension_array_dtype(pd_dtype):\n",
      "c:\\Python39\\lib\\site-packages\\sklearn\\utils\\validation.py:767: FutureWarning: is_sparse is deprecated and will be removed in a future version. Check `isinstance(dtype, pd.SparseDtype)` instead.\n",
      "  if not hasattr(array, \"sparse\") and array.dtypes.apply(is_sparse).any():\n",
      "c:\\Python39\\lib\\site-packages\\sklearn\\utils\\validation.py:605: FutureWarning: is_sparse is deprecated and will be removed in a future version. Check `isinstance(dtype, pd.SparseDtype)` instead.\n",
      "  if is_sparse(pd_dtype):\n",
      "c:\\Python39\\lib\\site-packages\\sklearn\\utils\\validation.py:614: FutureWarning: is_sparse is deprecated and will be removed in a future version. Check `isinstance(dtype, pd.SparseDtype)` instead.\n",
      "  if is_sparse(pd_dtype) or not is_extension_array_dtype(pd_dtype):\n"
     ]
    },
    {
     "name": "stdout",
     "output_type": "stream",
     "text": [
      "(435, 19212)\n",
      "(435, 19910)\n"
     ]
    }
   ],
   "source": [
    "#load preprocessed data\n",
    "mrna_x = pd.read_csv('zscore.csv')\n",
    "mrna_x.drop(columns=mrna_x.columns[0], axis=1, inplace=True)\n",
    "#mrna_x.drop('target', axis=1, inplace=True)\n",
    "y = np.load('processed_recurrence_data_zscore.npy')\n",
    "selector = VarianceThreshold(0.2)\n",
    "vars = selector.fit_transform(mrna_x)\n",
    "print(vars.shape)\n",
    "print(mrna_x.shape)\n",
    "X_train, X_test, y_train, y_test = train_test_split(mrna_x.values, y,\n",
    "                                                    train_size=0.75, test_size=0.25)\n",
    "\n",
    "age = np.load('age_data.npy')\n",
    "gender = np.load('gender_data.npy')\n",
    "stage = np.load('stage_data.npy')\n",
    "\n",
    "# Try using lasso (feature selection), feature importance, shap\n"
   ]
  },
  {
   "cell_type": "code",
   "execution_count": 3,
   "metadata": {},
   "outputs": [
    {
     "name": "stdout",
     "output_type": "stream",
     "text": [
      "(326, 19910)\n",
      "(435, 19910)\n"
     ]
    }
   ],
   "source": [
    "print(X_train.shape)\n",
    "print(mrna_x.values.shape)"
   ]
  },
  {
   "cell_type": "code",
   "execution_count": 4,
   "metadata": {},
   "outputs": [
    {
     "name": "stdout",
     "output_type": "stream",
     "text": [
      "[[-3.0863 -0.5997  1.5294 ... -1.2508  0.1191 -1.1115]\n",
      " [-3.0863 -0.8006 -0.8942 ...  1.245   2.0039 -1.1115]\n",
      " [-3.0863 -0.5059  0.9541 ...  1.3399 -0.7256 -1.1115]\n",
      " ...\n",
      " [-3.0863 -0.6972  1.0341 ... -0.8519  2.6883 -1.1115]\n",
      " [-3.0863  1.187   0.9998 ... -1.3052 -0.4012 -1.1115]\n",
      " [-3.0863 -0.3087  1.2304 ... -1.2832  1.9043 -1.1115]]\n"
     ]
    }
   ],
   "source": [
    "print(mrna_x.values)"
   ]
  },
  {
   "cell_type": "code",
   "execution_count": 5,
   "metadata": {},
   "outputs": [
    {
     "name": "stderr",
     "output_type": "stream",
     "text": [
      "c:\\Python39\\lib\\site-packages\\sklearn\\linear_model\\_coordinate_descent.py:631: ConvergenceWarning: Objective did not converge. You might want to increase the number of iterations, check the scale of the features or consider increasing regularisation. Duality gap: 2.175e-02, tolerance: 7.126e-03\n",
      "  model = cd_fast.enet_coordinate_descent(\n",
      "c:\\Python39\\lib\\site-packages\\sklearn\\linear_model\\_coordinate_descent.py:631: ConvergenceWarning: Objective did not converge. You might want to increase the number of iterations, check the scale of the features or consider increasing regularisation. Duality gap: 2.211e-02, tolerance: 7.169e-03\n",
      "  model = cd_fast.enet_coordinate_descent(\n",
      "c:\\Python39\\lib\\site-packages\\sklearn\\linear_model\\_coordinate_descent.py:631: ConvergenceWarning: Objective did not converge. You might want to increase the number of iterations, check the scale of the features or consider increasing regularisation. Duality gap: 2.261e-02, tolerance: 7.210e-03\n",
      "  model = cd_fast.enet_coordinate_descent(\n",
      "c:\\Python39\\lib\\site-packages\\sklearn\\linear_model\\_coordinate_descent.py:631: ConvergenceWarning: Objective did not converge. You might want to increase the number of iterations, check the scale of the features or consider increasing regularisation. Duality gap: 2.169e-02, tolerance: 6.952e-03\n",
      "  model = cd_fast.enet_coordinate_descent(\n",
      "c:\\Python39\\lib\\site-packages\\sklearn\\linear_model\\_coordinate_descent.py:631: ConvergenceWarning: Objective did not converge. You might want to increase the number of iterations, check the scale of the features or consider increasing regularisation. Duality gap: 2.206e-02, tolerance: 7.332e-03\n",
      "  model = cd_fast.enet_coordinate_descent(\n"
     ]
    },
    {
     "name": "stdout",
     "output_type": "stream",
     "text": [
      "Best Params {'alpha': 1e-05}\n"
     ]
    },
    {
     "name": "stderr",
     "output_type": "stream",
     "text": [
      "c:\\Python39\\lib\\site-packages\\sklearn\\linear_model\\_coordinate_descent.py:631: ConvergenceWarning: Objective did not converge. You might want to increase the number of iterations, check the scale of the features or consider increasing regularisation. Duality gap: 3.023e-02, tolerance: 8.950e-03\n",
      "  model = cd_fast.enet_coordinate_descent(\n"
     ]
    }
   ],
   "source": [
    "# parameters to be tested on GridSearchCV\n",
    "params = {\"alpha\":np.arange(0.00001, 10, 500)}\n",
    "\n",
    "# Number of Folds and adding the random state for replication\n",
    "kf=KFold(n_splits=5,shuffle=True, random_state=42)\n",
    "\n",
    "# Initializing the Model\n",
    "lasso = Lasso()\n",
    "\n",
    "# GridSearchCV with model, params and folds.\n",
    "lasso_cv=GridSearchCV(lasso, param_grid=params, cv=kf)\n",
    "lasso_cv.fit(mrna_x.values, y)\n",
    "print(\"Best Params {}\".format(lasso_cv.best_params_))"
   ]
  },
  {
   "cell_type": "code",
   "execution_count": 6,
   "metadata": {},
   "outputs": [
    {
     "name": "stdout",
     "output_type": "stream",
     "text": [
      "Column Names: ['LOC100130426' 'UBE2Q2P3' 'UBE2Q2P3.1' ... 'ZZZ3' 'TPTEP1' 'AKR1C6P']\n",
      "19910\n"
     ]
    }
   ],
   "source": [
    "names=mrna_x.columns\n",
    "print(\"Column Names: {}\".format(names.values))\n",
    "print(len(names))"
   ]
  },
  {
   "cell_type": "code",
   "execution_count": 7,
   "metadata": {},
   "outputs": [
    {
     "name": "stderr",
     "output_type": "stream",
     "text": [
      "c:\\Python39\\lib\\site-packages\\sklearn\\linear_model\\_coordinate_descent.py:631: ConvergenceWarning: Objective did not converge. You might want to increase the number of iterations, check the scale of the features or consider increasing regularisation. Duality gap: 2.014e-02, tolerance: 6.773e-03\n",
      "  model = cd_fast.enet_coordinate_descent(\n"
     ]
    }
   ],
   "source": [
    "# calling the model with the best parameter\n",
    "lasso1 = Lasso(alpha=0.00001)\n",
    "lasso1.fit(X_train, y_train)\n",
    "\n",
    "# Using np.abs() to make coefficients positive.  \n",
    "lasso1_coef = np.abs(lasso1.coef_)\n",
    "\n",
    "\n"
   ]
  },
  {
   "cell_type": "code",
   "execution_count": 8,
   "metadata": {},
   "outputs": [
    {
     "name": "stdout",
     "output_type": "stream",
     "text": [
      "Selected Feature Columns: ['LOC100130426' 'UBE2Q2P3' 'UBE2Q2P3.1' ... 'VWDE' 'WNK2' 'ZNF880']\n",
      "1317\n",
      "(435, 1317)\n"
     ]
    },
    {
     "name": "stderr",
     "output_type": "stream",
     "text": [
      "C:\\Users\\nitin\\AppData\\Local\\Temp\\ipykernel_14912\\241295037.py:8: SettingWithCopyWarning: \n",
      "A value is trying to be set on a copy of a slice from a DataFrame.\n",
      "Try using .loc[row_indexer,col_indexer] = value instead\n",
      "\n",
      "See the caveats in the documentation: https://pandas.pydata.org/pandas-docs/stable/user_guide/indexing.html#returning-a-view-versus-a-copy\n",
      "  lasso_x['Age'] = age\n",
      "C:\\Users\\nitin\\AppData\\Local\\Temp\\ipykernel_14912\\241295037.py:9: SettingWithCopyWarning: \n",
      "A value is trying to be set on a copy of a slice from a DataFrame.\n",
      "Try using .loc[row_indexer,col_indexer] = value instead\n",
      "\n",
      "See the caveats in the documentation: https://pandas.pydata.org/pandas-docs/stable/user_guide/indexing.html#returning-a-view-versus-a-copy\n",
      "  lasso_x['Gender'] = gender\n",
      "C:\\Users\\nitin\\AppData\\Local\\Temp\\ipykernel_14912\\241295037.py:10: SettingWithCopyWarning: \n",
      "A value is trying to be set on a copy of a slice from a DataFrame.\n",
      "Try using .loc[row_indexer,col_indexer] = value instead\n",
      "\n",
      "See the caveats in the documentation: https://pandas.pydata.org/pandas-docs/stable/user_guide/indexing.html#returning-a-view-versus-a-copy\n",
      "  lasso_x['Stage'] = stage\n"
     ]
    }
   ],
   "source": [
    "feature_subset=np.array(names)[lasso1_coef>0.001]\n",
    "print(\"Selected Feature Columns: {}\".format(feature_subset))\n",
    "print(len(feature_subset))\n",
    "\n",
    "lasso_x = mrna_x[feature_subset]\n",
    "print(lasso_x.shape)\n",
    "\n",
    "lasso_x['Age'] = age\n",
    "lasso_x['Gender'] = gender\n",
    "lasso_x['Stage'] = stage\n",
    "\n",
    "X_train, X_test, y_train, y_test = train_test_split(lasso_x.values, y,\n",
    "                                                    train_size=0.75, test_size=0.25, shuffle=True, random_state=123)"
   ]
  },
  {
   "cell_type": "code",
   "execution_count": null,
   "metadata": {},
   "outputs": [],
   "source": []
  },
  {
   "cell_type": "markdown",
   "metadata": {},
   "source": []
  },
  {
   "cell_type": "code",
   "execution_count": 9,
   "metadata": {},
   "outputs": [
    {
     "data": {
      "text/html": [
       "<div>\n",
       "<style scoped>\n",
       "    .dataframe tbody tr th:only-of-type {\n",
       "        vertical-align: middle;\n",
       "    }\n",
       "\n",
       "    .dataframe tbody tr th {\n",
       "        vertical-align: top;\n",
       "    }\n",
       "\n",
       "    .dataframe thead th {\n",
       "        text-align: right;\n",
       "    }\n",
       "</style>\n",
       "<table border=\"1\" class=\"dataframe\">\n",
       "  <thead>\n",
       "    <tr style=\"text-align: right;\">\n",
       "      <th></th>\n",
       "      <th>LOC100130426</th>\n",
       "      <th>UBE2Q2P3</th>\n",
       "      <th>UBE2Q2P3.1</th>\n",
       "      <th>TIMM23</th>\n",
       "      <th>LOC155060</th>\n",
       "      <th>SSX9</th>\n",
       "      <th>EZHIP</th>\n",
       "      <th>EFCAB8</th>\n",
       "      <th>LOC391343</th>\n",
       "      <th>TRIM75P</th>\n",
       "      <th>...</th>\n",
       "      <th>UBQLN3</th>\n",
       "      <th>UOX</th>\n",
       "      <th>UPK1B</th>\n",
       "      <th>USP17L6P</th>\n",
       "      <th>VWDE</th>\n",
       "      <th>WNK2</th>\n",
       "      <th>ZNF880</th>\n",
       "      <th>Age</th>\n",
       "      <th>Gender</th>\n",
       "      <th>Stage</th>\n",
       "    </tr>\n",
       "  </thead>\n",
       "  <tbody>\n",
       "    <tr>\n",
       "      <th>0</th>\n",
       "      <td>-3.0863</td>\n",
       "      <td>-0.5997</td>\n",
       "      <td>1.5294</td>\n",
       "      <td>-0.5550</td>\n",
       "      <td>-0.0905</td>\n",
       "      <td>-0.9372</td>\n",
       "      <td>-1.5927</td>\n",
       "      <td>-1.5707</td>\n",
       "      <td>-1.3357</td>\n",
       "      <td>-1.3125</td>\n",
       "      <td>...</td>\n",
       "      <td>-2.4209</td>\n",
       "      <td>0.0421</td>\n",
       "      <td>-0.2065</td>\n",
       "      <td>-3.4933</td>\n",
       "      <td>-0.9194</td>\n",
       "      <td>-0.0496</td>\n",
       "      <td>0.1502</td>\n",
       "      <td>69</td>\n",
       "      <td>0</td>\n",
       "      <td>0</td>\n",
       "    </tr>\n",
       "    <tr>\n",
       "      <th>1</th>\n",
       "      <td>-3.0863</td>\n",
       "      <td>-0.8006</td>\n",
       "      <td>-0.8942</td>\n",
       "      <td>1.8552</td>\n",
       "      <td>0.1934</td>\n",
       "      <td>-0.9372</td>\n",
       "      <td>-0.5358</td>\n",
       "      <td>-0.1335</td>\n",
       "      <td>-1.3357</td>\n",
       "      <td>-1.3125</td>\n",
       "      <td>...</td>\n",
       "      <td>-0.1208</td>\n",
       "      <td>-1.9378</td>\n",
       "      <td>0.1588</td>\n",
       "      <td>-3.4933</td>\n",
       "      <td>-0.9601</td>\n",
       "      <td>0.6042</td>\n",
       "      <td>-1.1109</td>\n",
       "      <td>68</td>\n",
       "      <td>1</td>\n",
       "      <td>0</td>\n",
       "    </tr>\n",
       "    <tr>\n",
       "      <th>2</th>\n",
       "      <td>-3.0863</td>\n",
       "      <td>-0.5059</td>\n",
       "      <td>0.9541</td>\n",
       "      <td>-0.3691</td>\n",
       "      <td>0.0083</td>\n",
       "      <td>-0.9372</td>\n",
       "      <td>-0.5668</td>\n",
       "      <td>-1.5707</td>\n",
       "      <td>-1.3357</td>\n",
       "      <td>-1.3125</td>\n",
       "      <td>...</td>\n",
       "      <td>-2.4209</td>\n",
       "      <td>-1.9378</td>\n",
       "      <td>-1.4314</td>\n",
       "      <td>-3.4933</td>\n",
       "      <td>-1.2773</td>\n",
       "      <td>-0.9105</td>\n",
       "      <td>-1.8695</td>\n",
       "      <td>67</td>\n",
       "      <td>0</td>\n",
       "      <td>0</td>\n",
       "    </tr>\n",
       "    <tr>\n",
       "      <th>3</th>\n",
       "      <td>-3.0863</td>\n",
       "      <td>-1.0747</td>\n",
       "      <td>-0.1385</td>\n",
       "      <td>-0.6454</td>\n",
       "      <td>-0.0301</td>\n",
       "      <td>-0.9372</td>\n",
       "      <td>0.1283</td>\n",
       "      <td>-0.2927</td>\n",
       "      <td>-0.4525</td>\n",
       "      <td>0.5771</td>\n",
       "      <td>...</td>\n",
       "      <td>-2.4209</td>\n",
       "      <td>1.5813</td>\n",
       "      <td>-1.4314</td>\n",
       "      <td>-3.4933</td>\n",
       "      <td>-0.9998</td>\n",
       "      <td>0.3500</td>\n",
       "      <td>-1.2717</td>\n",
       "      <td>66</td>\n",
       "      <td>0</td>\n",
       "      <td>2</td>\n",
       "    </tr>\n",
       "    <tr>\n",
       "      <th>4</th>\n",
       "      <td>-3.0863</td>\n",
       "      <td>0.3223</td>\n",
       "      <td>-0.7343</td>\n",
       "      <td>0.1476</td>\n",
       "      <td>0.9885</td>\n",
       "      <td>-0.9372</td>\n",
       "      <td>0.6324</td>\n",
       "      <td>5.0700</td>\n",
       "      <td>-1.3357</td>\n",
       "      <td>-1.3125</td>\n",
       "      <td>...</td>\n",
       "      <td>-2.4209</td>\n",
       "      <td>2.2995</td>\n",
       "      <td>-0.9899</td>\n",
       "      <td>-3.4933</td>\n",
       "      <td>0.9511</td>\n",
       "      <td>0.7472</td>\n",
       "      <td>1.2509</td>\n",
       "      <td>77</td>\n",
       "      <td>1</td>\n",
       "      <td>2</td>\n",
       "    </tr>\n",
       "    <tr>\n",
       "      <th>...</th>\n",
       "      <td>...</td>\n",
       "      <td>...</td>\n",
       "      <td>...</td>\n",
       "      <td>...</td>\n",
       "      <td>...</td>\n",
       "      <td>...</td>\n",
       "      <td>...</td>\n",
       "      <td>...</td>\n",
       "      <td>...</td>\n",
       "      <td>...</td>\n",
       "      <td>...</td>\n",
       "      <td>...</td>\n",
       "      <td>...</td>\n",
       "      <td>...</td>\n",
       "      <td>...</td>\n",
       "      <td>...</td>\n",
       "      <td>...</td>\n",
       "      <td>...</td>\n",
       "      <td>...</td>\n",
       "      <td>...</td>\n",
       "      <td>...</td>\n",
       "    </tr>\n",
       "    <tr>\n",
       "      <th>430</th>\n",
       "      <td>-3.0863</td>\n",
       "      <td>0.0191</td>\n",
       "      <td>-0.3816</td>\n",
       "      <td>-0.1537</td>\n",
       "      <td>1.4572</td>\n",
       "      <td>-0.9372</td>\n",
       "      <td>-0.5883</td>\n",
       "      <td>0.2341</td>\n",
       "      <td>-1.3357</td>\n",
       "      <td>-1.3125</td>\n",
       "      <td>...</td>\n",
       "      <td>-2.4209</td>\n",
       "      <td>-1.9378</td>\n",
       "      <td>0.1922</td>\n",
       "      <td>-3.4933</td>\n",
       "      <td>-0.6016</td>\n",
       "      <td>0.7954</td>\n",
       "      <td>-1.5095</td>\n",
       "      <td>41</td>\n",
       "      <td>0</td>\n",
       "      <td>4</td>\n",
       "    </tr>\n",
       "    <tr>\n",
       "      <th>431</th>\n",
       "      <td>-3.0863</td>\n",
       "      <td>1.6135</td>\n",
       "      <td>-0.6012</td>\n",
       "      <td>-0.1316</td>\n",
       "      <td>2.2147</td>\n",
       "      <td>-0.9372</td>\n",
       "      <td>1.7922</td>\n",
       "      <td>0.5098</td>\n",
       "      <td>-1.3357</td>\n",
       "      <td>-0.2478</td>\n",
       "      <td>...</td>\n",
       "      <td>0.1781</td>\n",
       "      <td>1.3724</td>\n",
       "      <td>-1.4314</td>\n",
       "      <td>-3.4933</td>\n",
       "      <td>-1.2773</td>\n",
       "      <td>0.7324</td>\n",
       "      <td>0.3330</td>\n",
       "      <td>68</td>\n",
       "      <td>0</td>\n",
       "      <td>1</td>\n",
       "    </tr>\n",
       "    <tr>\n",
       "      <th>432</th>\n",
       "      <td>-3.0863</td>\n",
       "      <td>-0.6972</td>\n",
       "      <td>1.0341</td>\n",
       "      <td>1.7282</td>\n",
       "      <td>0.8359</td>\n",
       "      <td>-0.9372</td>\n",
       "      <td>0.1106</td>\n",
       "      <td>0.7454</td>\n",
       "      <td>-1.3357</td>\n",
       "      <td>-1.3125</td>\n",
       "      <td>...</td>\n",
       "      <td>-2.4209</td>\n",
       "      <td>-1.9378</td>\n",
       "      <td>-0.2561</td>\n",
       "      <td>-3.4933</td>\n",
       "      <td>-0.7226</td>\n",
       "      <td>0.1149</td>\n",
       "      <td>-0.7365</td>\n",
       "      <td>58</td>\n",
       "      <td>1</td>\n",
       "      <td>0</td>\n",
       "    </tr>\n",
       "    <tr>\n",
       "      <th>433</th>\n",
       "      <td>-3.0863</td>\n",
       "      <td>1.1870</td>\n",
       "      <td>0.9998</td>\n",
       "      <td>-0.4700</td>\n",
       "      <td>0.5836</td>\n",
       "      <td>-0.9372</td>\n",
       "      <td>-1.5927</td>\n",
       "      <td>-1.5707</td>\n",
       "      <td>-1.3357</td>\n",
       "      <td>-1.3125</td>\n",
       "      <td>...</td>\n",
       "      <td>-2.4209</td>\n",
       "      <td>-1.9378</td>\n",
       "      <td>-0.1967</td>\n",
       "      <td>-3.4933</td>\n",
       "      <td>-1.0247</td>\n",
       "      <td>-1.0015</td>\n",
       "      <td>-1.0477</td>\n",
       "      <td>72</td>\n",
       "      <td>1</td>\n",
       "      <td>0</td>\n",
       "    </tr>\n",
       "    <tr>\n",
       "      <th>434</th>\n",
       "      <td>-3.0863</td>\n",
       "      <td>-0.3087</td>\n",
       "      <td>1.2304</td>\n",
       "      <td>1.3202</td>\n",
       "      <td>-0.0429</td>\n",
       "      <td>-0.9372</td>\n",
       "      <td>-1.2149</td>\n",
       "      <td>-0.3133</td>\n",
       "      <td>-0.7236</td>\n",
       "      <td>0.0859</td>\n",
       "      <td>...</td>\n",
       "      <td>-2.4209</td>\n",
       "      <td>-1.9378</td>\n",
       "      <td>-1.2979</td>\n",
       "      <td>-3.4933</td>\n",
       "      <td>-0.2067</td>\n",
       "      <td>-1.3653</td>\n",
       "      <td>-2.3517</td>\n",
       "      <td>47</td>\n",
       "      <td>1</td>\n",
       "      <td>0</td>\n",
       "    </tr>\n",
       "  </tbody>\n",
       "</table>\n",
       "<p>435 rows × 1320 columns</p>\n",
       "</div>"
      ],
      "text/plain": [
       "     LOC100130426  UBE2Q2P3  UBE2Q2P3.1  TIMM23  LOC155060    SSX9   EZHIP  \\\n",
       "0         -3.0863   -0.5997      1.5294 -0.5550    -0.0905 -0.9372 -1.5927   \n",
       "1         -3.0863   -0.8006     -0.8942  1.8552     0.1934 -0.9372 -0.5358   \n",
       "2         -3.0863   -0.5059      0.9541 -0.3691     0.0083 -0.9372 -0.5668   \n",
       "3         -3.0863   -1.0747     -0.1385 -0.6454    -0.0301 -0.9372  0.1283   \n",
       "4         -3.0863    0.3223     -0.7343  0.1476     0.9885 -0.9372  0.6324   \n",
       "..            ...       ...         ...     ...        ...     ...     ...   \n",
       "430       -3.0863    0.0191     -0.3816 -0.1537     1.4572 -0.9372 -0.5883   \n",
       "431       -3.0863    1.6135     -0.6012 -0.1316     2.2147 -0.9372  1.7922   \n",
       "432       -3.0863   -0.6972      1.0341  1.7282     0.8359 -0.9372  0.1106   \n",
       "433       -3.0863    1.1870      0.9998 -0.4700     0.5836 -0.9372 -1.5927   \n",
       "434       -3.0863   -0.3087      1.2304  1.3202    -0.0429 -0.9372 -1.2149   \n",
       "\n",
       "     EFCAB8  LOC391343  TRIM75P  ...  UBQLN3     UOX   UPK1B  USP17L6P  \\\n",
       "0   -1.5707    -1.3357  -1.3125  ... -2.4209  0.0421 -0.2065   -3.4933   \n",
       "1   -0.1335    -1.3357  -1.3125  ... -0.1208 -1.9378  0.1588   -3.4933   \n",
       "2   -1.5707    -1.3357  -1.3125  ... -2.4209 -1.9378 -1.4314   -3.4933   \n",
       "3   -0.2927    -0.4525   0.5771  ... -2.4209  1.5813 -1.4314   -3.4933   \n",
       "4    5.0700    -1.3357  -1.3125  ... -2.4209  2.2995 -0.9899   -3.4933   \n",
       "..      ...        ...      ...  ...     ...     ...     ...       ...   \n",
       "430  0.2341    -1.3357  -1.3125  ... -2.4209 -1.9378  0.1922   -3.4933   \n",
       "431  0.5098    -1.3357  -0.2478  ...  0.1781  1.3724 -1.4314   -3.4933   \n",
       "432  0.7454    -1.3357  -1.3125  ... -2.4209 -1.9378 -0.2561   -3.4933   \n",
       "433 -1.5707    -1.3357  -1.3125  ... -2.4209 -1.9378 -0.1967   -3.4933   \n",
       "434 -0.3133    -0.7236   0.0859  ... -2.4209 -1.9378 -1.2979   -3.4933   \n",
       "\n",
       "       VWDE    WNK2  ZNF880  Age  Gender  Stage  \n",
       "0   -0.9194 -0.0496  0.1502   69       0      0  \n",
       "1   -0.9601  0.6042 -1.1109   68       1      0  \n",
       "2   -1.2773 -0.9105 -1.8695   67       0      0  \n",
       "3   -0.9998  0.3500 -1.2717   66       0      2  \n",
       "4    0.9511  0.7472  1.2509   77       1      2  \n",
       "..      ...     ...     ...  ...     ...    ...  \n",
       "430 -0.6016  0.7954 -1.5095   41       0      4  \n",
       "431 -1.2773  0.7324  0.3330   68       0      1  \n",
       "432 -0.7226  0.1149 -0.7365   58       1      0  \n",
       "433 -1.0247 -1.0015 -1.0477   72       1      0  \n",
       "434 -0.2067 -1.3653 -2.3517   47       1      0  \n",
       "\n",
       "[435 rows x 1320 columns]"
      ]
     },
     "execution_count": 9,
     "metadata": {},
     "output_type": "execute_result"
    }
   ],
   "source": [
    "lasso_x"
   ]
  },
  {
   "cell_type": "code",
   "execution_count": 10,
   "metadata": {},
   "outputs": [],
   "source": [
    "X_train_full, X_test_full, y_train, y_test = train_test_split(mrna_x.values, y,\n",
    "                                                    train_size=0.75, test_size=0.25, shuffle=True, random_state=123)"
   ]
  },
  {
   "cell_type": "code",
   "execution_count": null,
   "metadata": {},
   "outputs": [],
   "source": []
  },
  {
   "cell_type": "code",
   "execution_count": 11,
   "metadata": {},
   "outputs": [
    {
     "name": "stdout",
     "output_type": "stream",
     "text": [
      "<class 'numpy.ndarray'>\n"
     ]
    }
   ],
   "source": [
    "pos_x_train = []\n",
    "neg_x_train = []\n",
    "print(type(X_train))\n",
    "for i in range(len(X_train)):\n",
    "    if y_train[i] == 1:\n",
    "        pos_x_train.append(X_train[i])\n",
    "    else:\n",
    "        neg_x_train.append(X_train[i])\n",
    "pos_x_train = np.array(pos_x_train)\n",
    "neg_x_train = np.array(neg_x_train)\n"
   ]
  },
  {
   "cell_type": "code",
   "execution_count": 12,
   "metadata": {},
   "outputs": [],
   "source": [
    "batches = []\n",
    "batches_y = []\n",
    "\n",
    "num_batches = 50\n",
    "\n",
    "batch_size = 32\n",
    "\n",
    "c = 0\n",
    "for i in range(num_batches):\n",
    "    batch = []\n",
    "    batch_y = []\n",
    "    temp = np.random.permutation(len(pos_x_train))[:int(batch_size/2)]\n",
    "    for t in temp:\n",
    "        batch.append(pos_x_train[t])\n",
    "        batch_y.append(1)\n",
    "    temp = np.random.permutation(len(neg_x_train))[:int(batch_size/2)]\n",
    "    for t in temp:\n",
    "        batch.append(neg_x_train[t])\n",
    "        batch_y.append(0)\n",
    "    batch = np.array(batch)\n",
    "    batches.append(batch)\n",
    "    batch_y = np.array(batch_y)\n",
    "    batches_y.append(batch_y)\n",
    "\n"
   ]
  },
  {
   "cell_type": "code",
   "execution_count": 13,
   "metadata": {},
   "outputs": [
    {
     "name": "stdout",
     "output_type": "stream",
     "text": [
      "Examples:\n",
      "    Total: 435\n",
      "    Positive: 126 (28.97% of total)\n",
      "\n"
     ]
    }
   ],
   "source": [
    "pos=sum(y)\n",
    "total = len(y)\n",
    "print('Examples:\\n    Total: {}\\n    Positive: {} ({:.2f}% of total)\\n'.format(\n",
    "    total, pos, 100 * pos / total))"
   ]
  },
  {
   "cell_type": "code",
   "execution_count": 14,
   "metadata": {},
   "outputs": [
    {
     "name": "stdout",
     "output_type": "stream",
     "text": [
      "WARNING:tensorflow:From c:\\Python39\\lib\\site-packages\\keras\\src\\backend.py:873: The name tf.get_default_graph is deprecated. Please use tf.compat.v1.get_default_graph instead.\n",
      "\n"
     ]
    }
   ],
   "source": [
    "#make and compile the Neural Network model\n",
    "\n",
    "'''\n",
    "model = tf.keras.models.Sequential([\n",
    "  tf.keras.layers.Dense(200, input_shape=(20531,),activation=tf.nn.relu),\n",
    "  tf.keras.layers.Dense(10, activation=tf.nn.relu),\n",
    "  tf.keras.layers.Dense(2, activation='softmax')\n",
    "\n",
    "])\n",
    "\n",
    "model.compile(loss = tf.keras.losses.SparseCategoricalCrossentropy(from_logits=False),\n",
    "                      optimizer = tf.keras.optimizers.Adam(), metrics=['accuracy'])\n",
    "\n",
    "'''\n",
    "x = lasso_x.shape[1]\n",
    "\n",
    "model = tf.keras.models.Sequential([\n",
    "  tf.keras.layers.Dense(x, input_shape=(x,),activation=tf.nn.relu),\n",
    "  tf.keras.layers.Dense(int(x/2), activation=tf.nn.relu),\n",
    "  tf.keras.layers.Dense(1, activation='sigmoid')\n",
    "\n",
    "])\n",
    "\n",
    "model.compile(loss = 'binary_crossentropy', optimizer = tf.keras.optimizers.Adam(), metrics=['accuracy', tf.keras.metrics.BinaryCrossentropy()])"
   ]
  },
  {
   "cell_type": "code",
   "execution_count": 15,
   "metadata": {},
   "outputs": [
    {
     "data": {
      "text/plain": [
       "1320"
      ]
     },
     "execution_count": 15,
     "metadata": {},
     "output_type": "execute_result"
    }
   ],
   "source": [
    "lasso_x.shape[1]"
   ]
  },
  {
   "cell_type": "code",
   "execution_count": 16,
   "metadata": {},
   "outputs": [
    {
     "name": "stdout",
     "output_type": "stream",
     "text": [
      "{0: 0.7180616740088106, 1: 1.6464646464646464} 326 99 227\n"
     ]
    }
   ],
   "source": [
    "weights = {}\n",
    "num_samples = len(y_train)\n",
    "pos_count = sum(y_train)\n",
    "neg_count =  num_samples - pos_count\n",
    "\n",
    "weights[0] = num_samples / (2 * neg_count)\n",
    "weights[1] = num_samples / (2 * pos_count)\n",
    "\n",
    "\n",
    "print(weights, num_samples, pos_count, neg_count)"
   ]
  },
  {
   "cell_type": "code",
   "execution_count": 17,
   "metadata": {},
   "outputs": [
    {
     "name": "stdout",
     "output_type": "stream",
     "text": [
      "Epoch 1/100\n",
      "WARNING:tensorflow:From c:\\Python39\\lib\\site-packages\\keras\\src\\utils\\tf_utils.py:492: The name tf.ragged.RaggedTensorValue is deprecated. Please use tf.compat.v1.ragged.RaggedTensorValue instead.\n",
      "\n",
      "WARNING:tensorflow:From c:\\Python39\\lib\\site-packages\\keras\\src\\engine\\base_layer_utils.py:384: The name tf.executing_eagerly_outside_functions is deprecated. Please use tf.compat.v1.executing_eagerly_outside_functions instead.\n",
      "\n",
      "11/11 [==============================] - 1s 41ms/step - loss: 2.2624 - accuracy: 0.6104 - binary_crossentropy: 2.2967 - val_loss: 1.2512 - val_accuracy: 0.6239 - val_binary_crossentropy: 1.2512\n",
      "Epoch 2/100\n",
      "11/11 [==============================] - 0s 15ms/step - loss: 0.4645 - accuracy: 0.8374 - binary_crossentropy: 0.4104 - val_loss: 0.6452 - val_accuracy: 0.7156 - val_binary_crossentropy: 0.6452\n",
      "Epoch 3/100\n",
      "11/11 [==============================] - 0s 15ms/step - loss: 0.2436 - accuracy: 0.9049 - binary_crossentropy: 0.2509 - val_loss: 0.5057 - val_accuracy: 0.8073 - val_binary_crossentropy: 0.5057\n",
      "Epoch 4/100\n",
      "11/11 [==============================] - 0s 28ms/step - loss: 0.1087 - accuracy: 0.9663 - binary_crossentropy: 0.1184 - val_loss: 0.5177 - val_accuracy: 0.8073 - val_binary_crossentropy: 0.5177\n",
      "Epoch 5/100\n",
      "11/11 [==============================] - 0s 17ms/step - loss: 0.0305 - accuracy: 1.0000 - binary_crossentropy: 0.0309 - val_loss: 0.5350 - val_accuracy: 0.8073 - val_binary_crossentropy: 0.5350\n",
      "Epoch 6/100\n",
      "11/11 [==============================] - 0s 17ms/step - loss: 0.0110 - accuracy: 1.0000 - binary_crossentropy: 0.0100 - val_loss: 0.6036 - val_accuracy: 0.7982 - val_binary_crossentropy: 0.6036\n"
     ]
    },
    {
     "data": {
      "text/plain": [
       "<keras.src.callbacks.History at 0x17844bb1880>"
      ]
     },
     "execution_count": 17,
     "metadata": {},
     "output_type": "execute_result"
    }
   ],
   "source": [
    "#Train the model on the cBioPortal data\n",
    "\n",
    "es = tf.keras.callbacks.EarlyStopping (monitor='val_loss', restore_best_weights=True, patience=3)\n",
    "\n",
    "model.fit(X_train, y_train, epochs=100, validation_data=(X_test, y_test), class_weight = weights, callbacks=[es])\n"
   ]
  },
  {
   "cell_type": "code",
   "execution_count": 18,
   "metadata": {},
   "outputs": [
    {
     "name": "stdout",
     "output_type": "stream",
     "text": [
      "4/4 - 0s - loss: 0.5057 - accuracy: 0.8073 - binary_crossentropy: 0.5057 - 48ms/epoch - 12ms/step\n"
     ]
    },
    {
     "data": {
      "text/plain": [
       "[0.5057425498962402, 0.8073394298553467, 0.5057425498962402]"
      ]
     },
     "execution_count": 18,
     "metadata": {},
     "output_type": "execute_result"
    }
   ],
   "source": [
    "#Validate the model\n",
    "\n",
    "model.evaluate(X_test, y_test, verbose=2)"
   ]
  },
  {
   "cell_type": "code",
   "execution_count": 19,
   "metadata": {},
   "outputs": [
    {
     "name": "stdout",
     "output_type": "stream",
     "text": [
      "[[-3.0863  1.2855  0.1118 ... 79.      0.      0.    ]\n",
      " [-3.0863 -2.6026 -0.1031 ... 49.      0.      2.    ]\n",
      " [-3.0863 -0.1705  0.7583 ... 61.      0.      1.    ]\n",
      " ...\n",
      " [-3.0863 -1.6232 -0.1132 ... 54.      1.      1.    ]\n",
      " [-3.0863 -1.1919 -1.2948 ... 59.      0.      2.    ]\n",
      " [-3.0863 -1.2865 -0.1928 ... 40.      0.      0.    ]]\n",
      "[0 1 1 0 0 0 0 0 0 0 0 0 0 0 0 0 1 0 1 1 0 0 0 1 0 0 0 0 0 0 0 0 0 0 0 0 1\n",
      " 1 0 0 0 0 0 0 1 0 0 1 0 0 0 0 0 0 1 0 0 1 1 1 0 0 0 0 1 0 1 0 1 0 0 0 0 0\n",
      " 0 0 1 0 0 1 0 0 0 0 0 0 0 1 0 0 1 0 0 1 0 1 1 1 0 1 0 0 0 1 0 0 0 0 0]\n"
     ]
    }
   ],
   "source": [
    "#print(model.predict(X_test))\n",
    "print(X_test)\n",
    "print(y_test)"
   ]
  },
  {
   "cell_type": "code",
   "execution_count": 20,
   "metadata": {},
   "outputs": [
    {
     "name": "stdout",
     "output_type": "stream",
     "text": [
      "4/4 [==============================] - 0s 3ms/step\n"
     ]
    }
   ],
   "source": [
    "y_prob_tf = model.predict(X_test)"
   ]
  },
  {
   "cell_type": "code",
   "execution_count": 21,
   "metadata": {},
   "outputs": [
    {
     "name": "stdout",
     "output_type": "stream",
     "text": [
      "0.8532110091743119\n"
     ]
    }
   ],
   "source": [
    "from sklearn.linear_model import LogisticRegression\n",
    "lr = LogisticRegression(C = 1000, max_iter=2000, penalty='l1', solver='liblinear', random_state=123)\n",
    "lr.fit(X_train, y_train)\n",
    "print(lr.score(X_test, y_test))\n",
    "y_prob_lr = lr.predict_proba(X_test)[:,1]"
   ]
  },
  {
   "cell_type": "code",
   "execution_count": 22,
   "metadata": {},
   "outputs": [
    {
     "name": "stdout",
     "output_type": "stream",
     "text": [
      "0.7431192660550459\n"
     ]
    }
   ],
   "source": [
    "from sklearn.ensemble import RandomForestClassifier\n",
    "rf = RandomForestClassifier(max_depth = 15)\n",
    "rf.fit(X_train, y_train)\n",
    "print(rf.score(X_test, y_test))\n",
    "y_prob_rf = rf.predict_proba(X_test)[:,1]"
   ]
  },
  {
   "cell_type": "code",
   "execution_count": 23,
   "metadata": {},
   "outputs": [
    {
     "name": "stdout",
     "output_type": "stream",
     "text": [
      "0.7431192660550459\n"
     ]
    }
   ],
   "source": [
    "from lightgbm import LGBMClassifier\n",
    "lgb = LGBMClassifier(num_leaves = 3, verbose=0)\n",
    "lgb.fit(X_train_full, y_train)\n",
    "print(lgb.score(X_test_full, y_test))\n",
    "y_prob_lgb = lgb.predict_proba(X_test_full)[:,1]"
   ]
  },
  {
   "cell_type": "code",
   "execution_count": 24,
   "metadata": {},
   "outputs": [
    {
     "name": "stdout",
     "output_type": "stream",
     "text": [
      "0.8440366972477065\n"
     ]
    }
   ],
   "source": [
    "from sklearn.svm import SVC\n",
    "svc = SVC(probability=True, C=1000, kernel='linear')\n",
    "svc.fit(X_train, y_train)\n",
    "print(svc.score(X_test, y_test))\n",
    "y_prob_svc = svc.predict_proba(X_test)[:,1]"
   ]
  },
  {
   "cell_type": "code",
   "execution_count": 25,
   "metadata": {},
   "outputs": [
    {
     "name": "stdout",
     "output_type": "stream",
     "text": [
      "0.7247706422018348\n"
     ]
    }
   ],
   "source": [
    "from sklearn.neighbors import KNeighborsClassifier\n",
    "\n",
    "kn = KNeighborsClassifier()\n",
    "kn.fit(X_train, y_train)\n",
    "print(kn.score(X_test, y_test))\n",
    "y_prob_kn = kn.predict_proba(X_test)[:,1]\n",
    "\n"
   ]
  },
  {
   "cell_type": "code",
   "execution_count": 26,
   "metadata": {},
   "outputs": [
    {
     "name": "stdout",
     "output_type": "stream",
     "text": [
      "0.7247706422018348\n"
     ]
    }
   ],
   "source": [
    "from sklearn.ensemble import AdaBoostClassifier\n",
    "\n",
    "adb = AdaBoostClassifier(random_state=123)\n",
    "adb.fit(X_train, y_train)\n",
    "print(adb.score(X_test, y_test))\n",
    "y_prob_adb = adb.predict_proba(X_test)[:,1]"
   ]
  },
  {
   "cell_type": "code",
   "execution_count": 27,
   "metadata": {},
   "outputs": [
    {
     "name": "stdout",
     "output_type": "stream",
     "text": [
      "0.7431192660550459\n"
     ]
    }
   ],
   "source": [
    "from sklearn.naive_bayes import BernoulliNB\n",
    "\n",
    "bnb = BernoulliNB()\n",
    "bnb.fit(X_train, y_train)\n",
    "print(bnb.score(X_test, y_test))\n",
    "y_prob_bnb = bnb.predict_proba(X_test)[:,1]\n"
   ]
  },
  {
   "cell_type": "code",
   "execution_count": 28,
   "metadata": {},
   "outputs": [
    {
     "name": "stdout",
     "output_type": "stream",
     "text": [
      "0.8165137614678899\n"
     ]
    }
   ],
   "source": [
    "from sklearn.neural_network import MLPClassifier\n",
    "mlp = MLPClassifier(random_state=123)\n",
    "mlp.fit(X_train, y_train)\n",
    "print(mlp.score(X_test, y_test))\n",
    "y_prob_mlp = mlp.predict_proba(X_test)[:,1]"
   ]
  },
  {
   "cell_type": "code",
   "execution_count": 29,
   "metadata": {},
   "outputs": [
    {
     "data": {
      "image/png": "[encoded data removed]",
      "text/plain": [
       "<Figure size 640x480 with 1 Axes>"
      ]
     },
     "metadata": {},
     "output_type": "display_data"
    }
   ],
   "source": [
    "plt.figure(1)\n",
    "plt.plot([0, 1], [0, 1], 'k--')\n",
    "\n",
    "fpr, tpr, thresholds = roc_curve(y_test, y_prob_svc)\n",
    "auc_val = metrics.auc(fpr, tpr)\n",
    "plt.plot(fpr, tpr, label='SVC (AUC: {:.2f})'.format(auc_val))\n",
    "\n",
    "fpr, tpr, thresholds = roc_curve(y_test, y_prob_lr)\n",
    "auc_val = metrics.auc(fpr, tpr)\n",
    "plt.plot(fpr, tpr, label='LogisticRegression (AUC: {:.2f})'.format(auc_val))\n",
    "\n",
    "fpr, tpr, thresholds = roc_curve(y_test, y_prob_mlp)\n",
    "auc_val = metrics.auc(fpr, tpr)\n",
    "plt.plot(fpr, tpr, label='MLPClassifier (AUC: {:.2f})'.format(auc_val))\n",
    "\n",
    "fpr, tpr, thresholds = roc_curve(y_test, y_prob_tf)\n",
    "auc_val = metrics.auc(fpr, tpr)\n",
    "plt.plot(fpr, tpr, label='TensorFlow (AUC: {:.2f})'.format(auc_val))\n",
    "\n",
    "fpr, tpr, thresholds = roc_curve(y_test, y_prob_lgb)\n",
    "auc_val = metrics.auc(fpr, tpr)\n",
    "plt.plot(fpr, tpr, label='LGBMClassifier (AUC: {:.2f})'.format(auc_val))\n",
    "\n",
    "fpr, tpr, thresholds = roc_curve(y_test, y_prob_bnb)\n",
    "auc_val = metrics.auc(fpr, tpr)\n",
    "plt.plot(fpr, tpr, label='BernoulliNaiveBayes (AUC: {:.2f})'.format(auc_val))\n",
    "\n",
    "\n",
    "fpr, tpr, thresholds = roc_curve(y_test, y_prob_kn)\n",
    "auc_val = metrics.auc(fpr, tpr)\n",
    "plt.plot(fpr, tpr, label='KNeighborsClassifier (AUC: {:.2f})'.format(auc_val))\n",
    "\n",
    "fpr, tpr, thresholds = roc_curve(y_test, y_prob_rf)\n",
    "auc_val = metrics.auc(fpr, tpr)\n",
    "plt.plot(fpr, tpr, label='RandomForestClassifier (AUC: {:.2f})'.format(auc_val))\n",
    "\n",
    "\n",
    "\n",
    "fpr, tpr, thresholds = roc_curve(y_test, y_prob_adb)\n",
    "auc_val = metrics.auc(fpr, tpr)\n",
    "plt.plot(fpr, tpr, label='AdaBoostClassifier (AUC: {:.2f})'.format(auc_val))\n",
    "\n",
    "\n",
    "\n",
    "\n",
    "plt.xlabel('False positive rate')\n",
    "plt.ylabel('True positive rate')\n",
    "plt.title('ROC curve')\n",
    "plt.legend(loc='best')\n",
    "plt.show()\n"
   ]
  },
  {
   "cell_type": "code",
   "execution_count": null,
   "metadata": {},
   "outputs": [],
   "source": []
  }
 ],
 "metadata": {
  "kernelspec": {
   "display_name": "Python 3",
   "language": "python",
   "name": "python3"
  },
  "language_info": {
   "codemirror_mode": {
    "name": "ipython",
    "version": 3
   },
   "file_extension": ".py",
   "mimetype": "text/x-python",
   "name": "python",
   "nbconvert_exporter": "python",
   "pygments_lexer": "ipython3",
   "version": "3.9.5"
  }
 },
 "nbformat": 4,
 "nbformat_minor": 2
}
