{
 "cells": [
  {
   "cell_type": "code",
   "execution_count": 1,
   "metadata": {},
   "outputs": [
    {
     "name": "stdout",
     "output_type": "stream",
     "text": [
      "WARNING:tensorflow:From c:\\Python39\\lib\\site-packages\\keras\\src\\losses.py:2976: The name tf.losses.sparse_softmax_cross_entropy is deprecated. Please use tf.compat.v1.losses.sparse_softmax_cross_entropy instead.\n",
      "\n"
     ]
    }
   ],
   "source": [
    "#Import needed packages\n",
    "\n",
    "import tensorflow as tf\n",
    "from tensorflow.keras.layers import Dense, Flatten, Conv2D\n",
    "from tensorflow.keras import Model\n",
    "\n",
    "import numpy as np\n",
    "import pandas as pd\n",
    "import matplotlib.pyplot as plt \n",
    "\n",
    "from sklearn.model_selection import train_test_split\n",
    "from sklearn.feature_selection import VarianceThreshold\n",
    "from sklearn.metrics import roc_curve\n",
    "from sklearn import metrics\n",
    "\n",
    "from sklearn.linear_model import Lasso\n",
    "from sklearn.model_selection import GridSearchCV, KFold"
   ]
  },
  {
   "cell_type": "code",
   "execution_count": 2,
   "metadata": {},
   "outputs": [
    {
     "name": "stdout",
     "output_type": "stream",
     "text": [
      "(210, 47751)\n"
     ]
    }
   ],
   "source": [
    "#load preprocessed data\n",
    "mrna_x = pd.read_csv('zscore_mutation_methlyation.csv')\n",
    "mrna_x.drop(columns=mrna_x.columns[0], axis=1, inplace=True)\n",
    "y = np.load('processed_mrna_data_zscore_mutation_methlyation.npy')\n",
    "\n",
    "print(mrna_x.shape)\n",
    "X_train, X_test, y_train, y_test = train_test_split(mrna_x.values, y,\n",
    "                                                    train_size=0.75, test_size=0.25)\n",
    "\n",
    "age = np.load('age_data_mutation_methylation.npy')\n",
    "gender = np.load('gender_data_mutation_methlyation.npy')\n",
    "stage = np.load('stage_data_mutation_methylation.npy')\n",
    "\n",
    "\n"
   ]
  },
  {
   "cell_type": "code",
   "execution_count": 3,
   "metadata": {},
   "outputs": [
    {
     "data": {
      "text/html": [
       "<div>\n",
       "<style scoped>\n",
       "    .dataframe tbody tr th:only-of-type {\n",
       "        vertical-align: middle;\n",
       "    }\n",
       "\n",
       "    .dataframe tbody tr th {\n",
       "        vertical-align: top;\n",
       "    }\n",
       "\n",
       "    .dataframe thead th {\n",
       "        text-align: right;\n",
       "    }\n",
       "</style>\n",
       "<table border=\"1\" class=\"dataframe\">\n",
       "  <thead>\n",
       "    <tr style=\"text-align: right;\">\n",
       "      <th></th>\n",
       "      <th>LOC100130426</th>\n",
       "      <th>UBE2Q2P3</th>\n",
       "      <th>UBE2Q2P3.1</th>\n",
       "      <th>TIMM23</th>\n",
       "      <th>LOC155060</th>\n",
       "      <th>RNU12-2P</th>\n",
       "      <th>SSX9</th>\n",
       "      <th>EZHIP</th>\n",
       "      <th>EFCAB8</th>\n",
       "      <th>SRP14P1</th>\n",
       "      <th>...</th>\n",
       "      <th>SND1 Methylation</th>\n",
       "      <th>LOC100124692 Methylation</th>\n",
       "      <th>MCM4 Methylation</th>\n",
       "      <th>FBXO25 Methylation</th>\n",
       "      <th>WHSC1L1 Methylation</th>\n",
       "      <th>HNRNPK Methylation</th>\n",
       "      <th>KIAA1432 Methylation</th>\n",
       "      <th>AUH Methylation</th>\n",
       "      <th>RABGAP1 Methylation</th>\n",
       "      <th>MAPKAP1 Methylation</th>\n",
       "    </tr>\n",
       "  </thead>\n",
       "  <tbody>\n",
       "    <tr>\n",
       "      <th>0</th>\n",
       "      <td>-3.0863</td>\n",
       "      <td>1.6955</td>\n",
       "      <td>-0.2368</td>\n",
       "      <td>0.0596</td>\n",
       "      <td>-0.1545</td>\n",
       "      <td>-0.0312</td>\n",
       "      <td>-0.9372</td>\n",
       "      <td>-1.1769</td>\n",
       "      <td>-1.0054</td>\n",
       "      <td>0.0097</td>\n",
       "      <td>...</td>\n",
       "      <td>0.033797</td>\n",
       "      <td>0.019649</td>\n",
       "      <td>0.204339</td>\n",
       "      <td>0.076703</td>\n",
       "      <td>0.182662</td>\n",
       "      <td>0.203466</td>\n",
       "      <td>0.161770</td>\n",
       "      <td>0.071998</td>\n",
       "      <td>0.038556</td>\n",
       "      <td>0.047702</td>\n",
       "    </tr>\n",
       "    <tr>\n",
       "      <th>1</th>\n",
       "      <td>-0.6899</td>\n",
       "      <td>0.3369</td>\n",
       "      <td>-1.8035</td>\n",
       "      <td>-0.4247</td>\n",
       "      <td>-0.1294</td>\n",
       "      <td>-1.1709</td>\n",
       "      <td>-0.9372</td>\n",
       "      <td>-0.2185</td>\n",
       "      <td>0.2979</td>\n",
       "      <td>0.3521</td>\n",
       "      <td>...</td>\n",
       "      <td>0.028413</td>\n",
       "      <td>0.033129</td>\n",
       "      <td>0.084335</td>\n",
       "      <td>0.043147</td>\n",
       "      <td>0.107383</td>\n",
       "      <td>0.088992</td>\n",
       "      <td>0.088157</td>\n",
       "      <td>0.056307</td>\n",
       "      <td>0.038288</td>\n",
       "      <td>0.036510</td>\n",
       "    </tr>\n",
       "    <tr>\n",
       "      <th>2</th>\n",
       "      <td>-3.0863</td>\n",
       "      <td>1.5766</td>\n",
       "      <td>0.7574</td>\n",
       "      <td>-1.2475</td>\n",
       "      <td>0.4810</td>\n",
       "      <td>0.2606</td>\n",
       "      <td>-0.9372</td>\n",
       "      <td>0.8946</td>\n",
       "      <td>-0.2900</td>\n",
       "      <td>1.2966</td>\n",
       "      <td>...</td>\n",
       "      <td>0.031209</td>\n",
       "      <td>0.019652</td>\n",
       "      <td>0.151872</td>\n",
       "      <td>0.056361</td>\n",
       "      <td>0.108443</td>\n",
       "      <td>0.164716</td>\n",
       "      <td>0.140653</td>\n",
       "      <td>0.065337</td>\n",
       "      <td>0.029315</td>\n",
       "      <td>0.049104</td>\n",
       "    </tr>\n",
       "    <tr>\n",
       "      <th>3</th>\n",
       "      <td>-3.0863</td>\n",
       "      <td>1.3656</td>\n",
       "      <td>-0.5168</td>\n",
       "      <td>-1.0347</td>\n",
       "      <td>0.4268</td>\n",
       "      <td>-0.2926</td>\n",
       "      <td>-0.9372</td>\n",
       "      <td>-0.7295</td>\n",
       "      <td>0.8634</td>\n",
       "      <td>-0.4918</td>\n",
       "      <td>...</td>\n",
       "      <td>0.044433</td>\n",
       "      <td>0.044109</td>\n",
       "      <td>0.112851</td>\n",
       "      <td>0.039710</td>\n",
       "      <td>0.094104</td>\n",
       "      <td>0.121972</td>\n",
       "      <td>0.104191</td>\n",
       "      <td>0.053501</td>\n",
       "      <td>0.031203</td>\n",
       "      <td>0.033189</td>\n",
       "    </tr>\n",
       "    <tr>\n",
       "      <th>4</th>\n",
       "      <td>-3.0863</td>\n",
       "      <td>0.1986</td>\n",
       "      <td>-0.6028</td>\n",
       "      <td>-0.0509</td>\n",
       "      <td>-0.9082</td>\n",
       "      <td>-1.9249</td>\n",
       "      <td>-0.9372</td>\n",
       "      <td>0.1226</td>\n",
       "      <td>-1.0782</td>\n",
       "      <td>-1.1314</td>\n",
       "      <td>...</td>\n",
       "      <td>0.030863</td>\n",
       "      <td>0.029307</td>\n",
       "      <td>0.139735</td>\n",
       "      <td>0.052231</td>\n",
       "      <td>0.104573</td>\n",
       "      <td>0.136189</td>\n",
       "      <td>0.064693</td>\n",
       "      <td>0.044280</td>\n",
       "      <td>0.024178</td>\n",
       "      <td>0.029658</td>\n",
       "    </tr>\n",
       "  </tbody>\n",
       "</table>\n",
       "<p>5 rows × 47751 columns</p>\n",
       "</div>"
      ],
      "text/plain": [
       "   LOC100130426  UBE2Q2P3  UBE2Q2P3.1  TIMM23  LOC155060  RNU12-2P    SSX9  \\\n",
       "0       -3.0863    1.6955     -0.2368  0.0596    -0.1545   -0.0312 -0.9372   \n",
       "1       -0.6899    0.3369     -1.8035 -0.4247    -0.1294   -1.1709 -0.9372   \n",
       "2       -3.0863    1.5766      0.7574 -1.2475     0.4810    0.2606 -0.9372   \n",
       "3       -3.0863    1.3656     -0.5168 -1.0347     0.4268   -0.2926 -0.9372   \n",
       "4       -3.0863    0.1986     -0.6028 -0.0509    -0.9082   -1.9249 -0.9372   \n",
       "\n",
       "    EZHIP  EFCAB8  SRP14P1  ...  SND1 Methylation  LOC100124692 Methylation  \\\n",
       "0 -1.1769 -1.0054   0.0097  ...          0.033797                  0.019649   \n",
       "1 -0.2185  0.2979   0.3521  ...          0.028413                  0.033129   \n",
       "2  0.8946 -0.2900   1.2966  ...          0.031209                  0.019652   \n",
       "3 -0.7295  0.8634  -0.4918  ...          0.044433                  0.044109   \n",
       "4  0.1226 -1.0782  -1.1314  ...          0.030863                  0.029307   \n",
       "\n",
       "   MCM4 Methylation  FBXO25 Methylation  WHSC1L1 Methylation  \\\n",
       "0          0.204339            0.076703             0.182662   \n",
       "1          0.084335            0.043147             0.107383   \n",
       "2          0.151872            0.056361             0.108443   \n",
       "3          0.112851            0.039710             0.094104   \n",
       "4          0.139735            0.052231             0.104573   \n",
       "\n",
       "   HNRNPK Methylation  KIAA1432 Methylation  AUH Methylation  \\\n",
       "0            0.203466              0.161770         0.071998   \n",
       "1            0.088992              0.088157         0.056307   \n",
       "2            0.164716              0.140653         0.065337   \n",
       "3            0.121972              0.104191         0.053501   \n",
       "4            0.136189              0.064693         0.044280   \n",
       "\n",
       "   RABGAP1 Methylation  MAPKAP1 Methylation  \n",
       "0             0.038556             0.047702  \n",
       "1             0.038288             0.036510  \n",
       "2             0.029315             0.049104  \n",
       "3             0.031203             0.033189  \n",
       "4             0.024178             0.029658  \n",
       "\n",
       "[5 rows x 47751 columns]"
      ]
     },
     "execution_count": 3,
     "metadata": {},
     "output_type": "execute_result"
    }
   ],
   "source": [
    "mrna_x.head()"
   ]
  },
  {
   "cell_type": "code",
   "execution_count": 4,
   "metadata": {},
   "outputs": [
    {
     "ename": "ValueError",
     "evalue": "Input X contains NaN.\nLasso does not accept missing values encoded as NaN natively. For supervised learning, you might want to consider sklearn.ensemble.HistGradientBoostingClassifier and Regressor which accept missing values encoded as NaNs natively. Alternatively, it is possible to preprocess the data, for instance by using an imputer transformer in a pipeline or drop samples with missing values. See https://scikit-learn.org/stable/modules/impute.html You can find a list of all estimators that handle NaN values at the following page: https://scikit-learn.org/stable/modules/impute.html#estimators-that-handle-nan-values",
     "output_type": "error",
     "traceback": [
      "\u001b[1;31m---------------------------------------------------------------------------\u001b[0m",
      "\u001b[1;31mValueError\u001b[0m                                Traceback (most recent call last)",
      "Cell \u001b[1;32mIn[4], line 18\u001b[0m\n\u001b[0;32m     11\u001b[0m \u001b[38;5;66;03m# GridSearchCV with model, params and folds.\u001b[39;00m\n\u001b[0;32m     12\u001b[0m \u001b[38;5;66;03m#lasso_cv=GridSearchCV(lasso, param_grid=params, cv=kf)\u001b[39;00m\n\u001b[0;32m     13\u001b[0m \u001b[38;5;66;03m#lasso_cv.fit(mrna_x.values, y)\u001b[39;00m\n\u001b[0;32m     14\u001b[0m \u001b[38;5;66;03m#print(\"Best Params {}\".format(lasso_cv.best_params_))\u001b[39;00m\n\u001b[0;32m     15\u001b[0m \n\u001b[0;32m     16\u001b[0m \u001b[38;5;66;03m# calling the model with the best parameter\u001b[39;00m\n\u001b[0;32m     17\u001b[0m lasso1 \u001b[38;5;241m=\u001b[39m Lasso(alpha\u001b[38;5;241m=\u001b[39m\u001b[38;5;241m0.00001\u001b[39m, tol\u001b[38;5;241m=\u001b[39m\u001b[38;5;241m0.001\u001b[39m)\n\u001b[1;32m---> 18\u001b[0m \u001b[43mlasso1\u001b[49m\u001b[38;5;241;43m.\u001b[39;49m\u001b[43mfit\u001b[49m\u001b[43m(\u001b[49m\u001b[43mX_train\u001b[49m\u001b[43m,\u001b[49m\u001b[43m \u001b[49m\u001b[43my_train\u001b[49m\u001b[43m)\u001b[49m\n\u001b[0;32m     20\u001b[0m \u001b[38;5;66;03m# Using np.abs() to make coefficients positive.  \u001b[39;00m\n\u001b[0;32m     21\u001b[0m lasso1_coef \u001b[38;5;241m=\u001b[39m np\u001b[38;5;241m.\u001b[39mabs(lasso1\u001b[38;5;241m.\u001b[39mcoef_)\n",
      "File \u001b[1;32mc:\\Python39\\lib\\site-packages\\sklearn\\linear_model\\_coordinate_descent.py:908\u001b[0m, in \u001b[0;36mElasticNet.fit\u001b[1;34m(self, X, y, sample_weight, check_input)\u001b[0m\n\u001b[0;32m    906\u001b[0m \u001b[38;5;28;01mif\u001b[39;00m check_input:\n\u001b[0;32m    907\u001b[0m     X_copied \u001b[38;5;241m=\u001b[39m \u001b[38;5;28mself\u001b[39m\u001b[38;5;241m.\u001b[39mcopy_X \u001b[38;5;129;01mand\u001b[39;00m \u001b[38;5;28mself\u001b[39m\u001b[38;5;241m.\u001b[39mfit_intercept\n\u001b[1;32m--> 908\u001b[0m     X, y \u001b[38;5;241m=\u001b[39m \u001b[38;5;28;43mself\u001b[39;49m\u001b[38;5;241;43m.\u001b[39;49m\u001b[43m_validate_data\u001b[49m\u001b[43m(\u001b[49m\n\u001b[0;32m    909\u001b[0m \u001b[43m        \u001b[49m\u001b[43mX\u001b[49m\u001b[43m,\u001b[49m\n\u001b[0;32m    910\u001b[0m \u001b[43m        \u001b[49m\u001b[43my\u001b[49m\u001b[43m,\u001b[49m\n\u001b[0;32m    911\u001b[0m \u001b[43m        \u001b[49m\u001b[43maccept_sparse\u001b[49m\u001b[38;5;241;43m=\u001b[39;49m\u001b[38;5;124;43m\"\u001b[39;49m\u001b[38;5;124;43mcsc\u001b[39;49m\u001b[38;5;124;43m\"\u001b[39;49m\u001b[43m,\u001b[49m\n\u001b[0;32m    912\u001b[0m \u001b[43m        \u001b[49m\u001b[43morder\u001b[49m\u001b[38;5;241;43m=\u001b[39;49m\u001b[38;5;124;43m\"\u001b[39;49m\u001b[38;5;124;43mF\u001b[39;49m\u001b[38;5;124;43m\"\u001b[39;49m\u001b[43m,\u001b[49m\n\u001b[0;32m    913\u001b[0m \u001b[43m        \u001b[49m\u001b[43mdtype\u001b[49m\u001b[38;5;241;43m=\u001b[39;49m\u001b[43m[\u001b[49m\u001b[43mnp\u001b[49m\u001b[38;5;241;43m.\u001b[39;49m\u001b[43mfloat64\u001b[49m\u001b[43m,\u001b[49m\u001b[43m \u001b[49m\u001b[43mnp\u001b[49m\u001b[38;5;241;43m.\u001b[39;49m\u001b[43mfloat32\u001b[49m\u001b[43m]\u001b[49m\u001b[43m,\u001b[49m\n\u001b[0;32m    914\u001b[0m \u001b[43m        \u001b[49m\u001b[43mcopy\u001b[49m\u001b[38;5;241;43m=\u001b[39;49m\u001b[43mX_copied\u001b[49m\u001b[43m,\u001b[49m\n\u001b[0;32m    915\u001b[0m \u001b[43m        \u001b[49m\u001b[43mmulti_output\u001b[49m\u001b[38;5;241;43m=\u001b[39;49m\u001b[38;5;28;43;01mTrue\u001b[39;49;00m\u001b[43m,\u001b[49m\n\u001b[0;32m    916\u001b[0m \u001b[43m        \u001b[49m\u001b[43my_numeric\u001b[49m\u001b[38;5;241;43m=\u001b[39;49m\u001b[38;5;28;43;01mTrue\u001b[39;49;00m\u001b[43m,\u001b[49m\n\u001b[0;32m    917\u001b[0m \u001b[43m    \u001b[49m\u001b[43m)\u001b[49m\n\u001b[0;32m    918\u001b[0m     y \u001b[38;5;241m=\u001b[39m check_array(\n\u001b[0;32m    919\u001b[0m         y, order\u001b[38;5;241m=\u001b[39m\u001b[38;5;124m\"\u001b[39m\u001b[38;5;124mF\u001b[39m\u001b[38;5;124m\"\u001b[39m, copy\u001b[38;5;241m=\u001b[39m\u001b[38;5;28;01mFalse\u001b[39;00m, dtype\u001b[38;5;241m=\u001b[39mX\u001b[38;5;241m.\u001b[39mdtype\u001b[38;5;241m.\u001b[39mtype, ensure_2d\u001b[38;5;241m=\u001b[39m\u001b[38;5;28;01mFalse\u001b[39;00m\n\u001b[0;32m    920\u001b[0m     )\n\u001b[0;32m    922\u001b[0m n_samples, n_features \u001b[38;5;241m=\u001b[39m X\u001b[38;5;241m.\u001b[39mshape\n",
      "File \u001b[1;32mc:\\Python39\\lib\\site-packages\\sklearn\\base.py:584\u001b[0m, in \u001b[0;36mBaseEstimator._validate_data\u001b[1;34m(self, X, y, reset, validate_separately, **check_params)\u001b[0m\n\u001b[0;32m    582\u001b[0m         y \u001b[38;5;241m=\u001b[39m check_array(y, input_name\u001b[38;5;241m=\u001b[39m\u001b[38;5;124m\"\u001b[39m\u001b[38;5;124my\u001b[39m\u001b[38;5;124m\"\u001b[39m, \u001b[38;5;241m*\u001b[39m\u001b[38;5;241m*\u001b[39mcheck_y_params)\n\u001b[0;32m    583\u001b[0m     \u001b[38;5;28;01melse\u001b[39;00m:\n\u001b[1;32m--> 584\u001b[0m         X, y \u001b[38;5;241m=\u001b[39m check_X_y(X, y, \u001b[38;5;241m*\u001b[39m\u001b[38;5;241m*\u001b[39mcheck_params)\n\u001b[0;32m    585\u001b[0m     out \u001b[38;5;241m=\u001b[39m X, y\n\u001b[0;32m    587\u001b[0m \u001b[38;5;28;01mif\u001b[39;00m \u001b[38;5;129;01mnot\u001b[39;00m no_val_X \u001b[38;5;129;01mand\u001b[39;00m check_params\u001b[38;5;241m.\u001b[39mget(\u001b[38;5;124m\"\u001b[39m\u001b[38;5;124mensure_2d\u001b[39m\u001b[38;5;124m\"\u001b[39m, \u001b[38;5;28;01mTrue\u001b[39;00m):\n",
      "File \u001b[1;32mc:\\Python39\\lib\\site-packages\\sklearn\\utils\\validation.py:1106\u001b[0m, in \u001b[0;36mcheck_X_y\u001b[1;34m(X, y, accept_sparse, accept_large_sparse, dtype, order, copy, force_all_finite, ensure_2d, allow_nd, multi_output, ensure_min_samples, ensure_min_features, y_numeric, estimator)\u001b[0m\n\u001b[0;32m   1101\u001b[0m         estimator_name \u001b[38;5;241m=\u001b[39m _check_estimator_name(estimator)\n\u001b[0;32m   1102\u001b[0m     \u001b[38;5;28;01mraise\u001b[39;00m \u001b[38;5;167;01mValueError\u001b[39;00m(\n\u001b[0;32m   1103\u001b[0m         \u001b[38;5;124mf\u001b[39m\u001b[38;5;124m\"\u001b[39m\u001b[38;5;132;01m{\u001b[39;00mestimator_name\u001b[38;5;132;01m}\u001b[39;00m\u001b[38;5;124m requires y to be passed, but the target y is None\u001b[39m\u001b[38;5;124m\"\u001b[39m\n\u001b[0;32m   1104\u001b[0m     )\n\u001b[1;32m-> 1106\u001b[0m X \u001b[38;5;241m=\u001b[39m \u001b[43mcheck_array\u001b[49m\u001b[43m(\u001b[49m\n\u001b[0;32m   1107\u001b[0m \u001b[43m    \u001b[49m\u001b[43mX\u001b[49m\u001b[43m,\u001b[49m\n\u001b[0;32m   1108\u001b[0m \u001b[43m    \u001b[49m\u001b[43maccept_sparse\u001b[49m\u001b[38;5;241;43m=\u001b[39;49m\u001b[43maccept_sparse\u001b[49m\u001b[43m,\u001b[49m\n\u001b[0;32m   1109\u001b[0m \u001b[43m    \u001b[49m\u001b[43maccept_large_sparse\u001b[49m\u001b[38;5;241;43m=\u001b[39;49m\u001b[43maccept_large_sparse\u001b[49m\u001b[43m,\u001b[49m\n\u001b[0;32m   1110\u001b[0m \u001b[43m    \u001b[49m\u001b[43mdtype\u001b[49m\u001b[38;5;241;43m=\u001b[39;49m\u001b[43mdtype\u001b[49m\u001b[43m,\u001b[49m\n\u001b[0;32m   1111\u001b[0m \u001b[43m    \u001b[49m\u001b[43morder\u001b[49m\u001b[38;5;241;43m=\u001b[39;49m\u001b[43morder\u001b[49m\u001b[43m,\u001b[49m\n\u001b[0;32m   1112\u001b[0m \u001b[43m    \u001b[49m\u001b[43mcopy\u001b[49m\u001b[38;5;241;43m=\u001b[39;49m\u001b[43mcopy\u001b[49m\u001b[43m,\u001b[49m\n\u001b[0;32m   1113\u001b[0m \u001b[43m    \u001b[49m\u001b[43mforce_all_finite\u001b[49m\u001b[38;5;241;43m=\u001b[39;49m\u001b[43mforce_all_finite\u001b[49m\u001b[43m,\u001b[49m\n\u001b[0;32m   1114\u001b[0m \u001b[43m    \u001b[49m\u001b[43mensure_2d\u001b[49m\u001b[38;5;241;43m=\u001b[39;49m\u001b[43mensure_2d\u001b[49m\u001b[43m,\u001b[49m\n\u001b[0;32m   1115\u001b[0m \u001b[43m    \u001b[49m\u001b[43mallow_nd\u001b[49m\u001b[38;5;241;43m=\u001b[39;49m\u001b[43mallow_nd\u001b[49m\u001b[43m,\u001b[49m\n\u001b[0;32m   1116\u001b[0m \u001b[43m    \u001b[49m\u001b[43mensure_min_samples\u001b[49m\u001b[38;5;241;43m=\u001b[39;49m\u001b[43mensure_min_samples\u001b[49m\u001b[43m,\u001b[49m\n\u001b[0;32m   1117\u001b[0m \u001b[43m    \u001b[49m\u001b[43mensure_min_features\u001b[49m\u001b[38;5;241;43m=\u001b[39;49m\u001b[43mensure_min_features\u001b[49m\u001b[43m,\u001b[49m\n\u001b[0;32m   1118\u001b[0m \u001b[43m    \u001b[49m\u001b[43mestimator\u001b[49m\u001b[38;5;241;43m=\u001b[39;49m\u001b[43mestimator\u001b[49m\u001b[43m,\u001b[49m\n\u001b[0;32m   1119\u001b[0m \u001b[43m    \u001b[49m\u001b[43minput_name\u001b[49m\u001b[38;5;241;43m=\u001b[39;49m\u001b[38;5;124;43m\"\u001b[39;49m\u001b[38;5;124;43mX\u001b[39;49m\u001b[38;5;124;43m\"\u001b[39;49m\u001b[43m,\u001b[49m\n\u001b[0;32m   1120\u001b[0m \u001b[43m\u001b[49m\u001b[43m)\u001b[49m\n\u001b[0;32m   1122\u001b[0m y \u001b[38;5;241m=\u001b[39m _check_y(y, multi_output\u001b[38;5;241m=\u001b[39mmulti_output, y_numeric\u001b[38;5;241m=\u001b[39my_numeric, estimator\u001b[38;5;241m=\u001b[39mestimator)\n\u001b[0;32m   1124\u001b[0m check_consistent_length(X, y)\n",
      "File \u001b[1;32mc:\\Python39\\lib\\site-packages\\sklearn\\utils\\validation.py:921\u001b[0m, in \u001b[0;36mcheck_array\u001b[1;34m(array, accept_sparse, accept_large_sparse, dtype, order, copy, force_all_finite, ensure_2d, allow_nd, ensure_min_samples, ensure_min_features, estimator, input_name)\u001b[0m\n\u001b[0;32m    915\u001b[0m         \u001b[38;5;28;01mraise\u001b[39;00m \u001b[38;5;167;01mValueError\u001b[39;00m(\n\u001b[0;32m    916\u001b[0m             \u001b[38;5;124m\"\u001b[39m\u001b[38;5;124mFound array with dim \u001b[39m\u001b[38;5;132;01m%d\u001b[39;00m\u001b[38;5;124m. \u001b[39m\u001b[38;5;132;01m%s\u001b[39;00m\u001b[38;5;124m expected <= 2.\u001b[39m\u001b[38;5;124m\"\u001b[39m\n\u001b[0;32m    917\u001b[0m             \u001b[38;5;241m%\u001b[39m (array\u001b[38;5;241m.\u001b[39mndim, estimator_name)\n\u001b[0;32m    918\u001b[0m         )\n\u001b[0;32m    920\u001b[0m     \u001b[38;5;28;01mif\u001b[39;00m force_all_finite:\n\u001b[1;32m--> 921\u001b[0m         \u001b[43m_assert_all_finite\u001b[49m\u001b[43m(\u001b[49m\n\u001b[0;32m    922\u001b[0m \u001b[43m            \u001b[49m\u001b[43marray\u001b[49m\u001b[43m,\u001b[49m\n\u001b[0;32m    923\u001b[0m \u001b[43m            \u001b[49m\u001b[43minput_name\u001b[49m\u001b[38;5;241;43m=\u001b[39;49m\u001b[43minput_name\u001b[49m\u001b[43m,\u001b[49m\n\u001b[0;32m    924\u001b[0m \u001b[43m            \u001b[49m\u001b[43mestimator_name\u001b[49m\u001b[38;5;241;43m=\u001b[39;49m\u001b[43mestimator_name\u001b[49m\u001b[43m,\u001b[49m\n\u001b[0;32m    925\u001b[0m \u001b[43m            \u001b[49m\u001b[43mallow_nan\u001b[49m\u001b[38;5;241;43m=\u001b[39;49m\u001b[43mforce_all_finite\u001b[49m\u001b[43m \u001b[49m\u001b[38;5;241;43m==\u001b[39;49m\u001b[43m \u001b[49m\u001b[38;5;124;43m\"\u001b[39;49m\u001b[38;5;124;43mallow-nan\u001b[39;49m\u001b[38;5;124;43m\"\u001b[39;49m\u001b[43m,\u001b[49m\n\u001b[0;32m    926\u001b[0m \u001b[43m        \u001b[49m\u001b[43m)\u001b[49m\n\u001b[0;32m    928\u001b[0m \u001b[38;5;28;01mif\u001b[39;00m ensure_min_samples \u001b[38;5;241m>\u001b[39m \u001b[38;5;241m0\u001b[39m:\n\u001b[0;32m    929\u001b[0m     n_samples \u001b[38;5;241m=\u001b[39m _num_samples(array)\n",
      "File \u001b[1;32mc:\\Python39\\lib\\site-packages\\sklearn\\utils\\validation.py:161\u001b[0m, in \u001b[0;36m_assert_all_finite\u001b[1;34m(X, allow_nan, msg_dtype, estimator_name, input_name)\u001b[0m\n\u001b[0;32m    144\u001b[0m \u001b[38;5;28;01mif\u001b[39;00m estimator_name \u001b[38;5;129;01mand\u001b[39;00m input_name \u001b[38;5;241m==\u001b[39m \u001b[38;5;124m\"\u001b[39m\u001b[38;5;124mX\u001b[39m\u001b[38;5;124m\"\u001b[39m \u001b[38;5;129;01mand\u001b[39;00m has_nan_error:\n\u001b[0;32m    145\u001b[0m     \u001b[38;5;66;03m# Improve the error message on how to handle missing values in\u001b[39;00m\n\u001b[0;32m    146\u001b[0m     \u001b[38;5;66;03m# scikit-learn.\u001b[39;00m\n\u001b[0;32m    147\u001b[0m     msg_err \u001b[38;5;241m+\u001b[39m\u001b[38;5;241m=\u001b[39m (\n\u001b[0;32m    148\u001b[0m         \u001b[38;5;124mf\u001b[39m\u001b[38;5;124m\"\u001b[39m\u001b[38;5;130;01m\\n\u001b[39;00m\u001b[38;5;132;01m{\u001b[39;00mestimator_name\u001b[38;5;132;01m}\u001b[39;00m\u001b[38;5;124m does not accept missing values\u001b[39m\u001b[38;5;124m\"\u001b[39m\n\u001b[0;32m    149\u001b[0m         \u001b[38;5;124m\"\u001b[39m\u001b[38;5;124m encoded as NaN natively. For supervised learning, you might want\u001b[39m\u001b[38;5;124m\"\u001b[39m\n\u001b[1;32m   (...)\u001b[0m\n\u001b[0;32m    159\u001b[0m         \u001b[38;5;124m\"\u001b[39m\u001b[38;5;124m#estimators-that-handle-nan-values\u001b[39m\u001b[38;5;124m\"\u001b[39m\n\u001b[0;32m    160\u001b[0m     )\n\u001b[1;32m--> 161\u001b[0m \u001b[38;5;28;01mraise\u001b[39;00m \u001b[38;5;167;01mValueError\u001b[39;00m(msg_err)\n",
      "\u001b[1;31mValueError\u001b[0m: Input X contains NaN.\nLasso does not accept missing values encoded as NaN natively. For supervised learning, you might want to consider sklearn.ensemble.HistGradientBoostingClassifier and Regressor which accept missing values encoded as NaNs natively. Alternatively, it is possible to preprocess the data, for instance by using an imputer transformer in a pipeline or drop samples with missing values. See https://scikit-learn.org/stable/modules/impute.html You can find a list of all estimators that handle NaN values at the following page: https://scikit-learn.org/stable/modules/impute.html#estimators-that-handle-nan-values"
     ]
    }
   ],
   "source": [
    "#LASSO\n",
    "# parameters to be tested on GridSearchCV\n",
    "params = {\"alpha\":np.arange(0.00001, 10, 500)}\n",
    "\n",
    "# Number of Folds and adding the random state for replication\n",
    "kf=KFold(n_splits=5,shuffle=True, random_state=42)\n",
    "\n",
    "# Initializing the Model\n",
    "lasso = Lasso()\n",
    "\n",
    "# GridSearchCV with model, params and folds.\n",
    "#lasso_cv=GridSearchCV(lasso, param_grid=params, cv=kf)\n",
    "#lasso_cv.fit(mrna_x.values, y)\n",
    "#print(\"Best Params {}\".format(lasso_cv.best_params_))\n",
    "\n",
    "# calling the model with the best parameter\n",
    "lasso1 = Lasso(alpha=0.00001, tol=0.001)\n",
    "lasso1.fit(X_train, y_train)\n",
    "\n",
    "# Using np.abs() to make coefficients positive.  \n",
    "lasso1_coef = np.abs(lasso1.coef_)\n",
    "\n",
    "names=mrna_x.columns\n",
    "print(\"Column Names: {}\".format(names.values))\n",
    "print(len(names))\n",
    "\n",
    "feature_subset=np.array(names)[lasso1_coef>0.001]\n",
    "print(\"Selected Feature Columns: {}\".format(feature_subset))\n",
    "print(len(feature_subset))\n",
    "\n",
    "lasso_x = mrna_x[feature_subset]\n",
    "print(lasso_x.shape)\n",
    "\n",
    "lasso_x['Age'] = age\n",
    "lasso_x['Gender'] = gender\n",
    "lasso_x['Stage'] = stage\n",
    "\n",
    "\n",
    "X_train, X_test, y_train, y_test = train_test_split(lasso_x.values, y,\n",
    "                                                    train_size=0.75, test_size=0.25, shuffle=True, random_state=123)"
   ]
  },
  {
   "cell_type": "code",
   "execution_count": null,
   "metadata": {},
   "outputs": [
    {
     "name": "stdout",
     "output_type": "stream",
     "text": [
      "WARNING:tensorflow:From c:\\Python39\\lib\\site-packages\\keras\\src\\backend.py:873: The name tf.get_default_graph is deprecated. Please use tf.compat.v1.get_default_graph instead.\n",
      "\n"
     ]
    }
   ],
   "source": [
    "x = lasso_x.shape[1]\n",
    "\n",
    "model = tf.keras.models.Sequential([\n",
    "  tf.keras.layers.Dense(x, input_shape=(x,),activation=tf.nn.relu),\n",
    "  tf.keras.layers.Dense(int(x/2), activation=tf.nn.relu),\n",
    "  tf.keras.layers.Dense(1, activation='sigmoid')\n",
    "\n",
    "])\n",
    "\n",
    "model.compile(loss = 'binary_crossentropy', optimizer = tf.keras.optimizers.Adam(), metrics=['accuracy', tf.keras.metrics.BinaryCrossentropy()])"
   ]
  },
  {
   "cell_type": "code",
   "execution_count": null,
   "metadata": {},
   "outputs": [
    {
     "name": "stdout",
     "output_type": "stream",
     "text": [
      "{0: 0.7058823529411765, 1: 1.7142857142857142} 192 56 136\n"
     ]
    }
   ],
   "source": [
    "weights = {}\n",
    "num_samples = len(y_train)\n",
    "pos_count = sum(y_train)\n",
    "neg_count =  num_samples - pos_count\n",
    "\n",
    "weights[0] = num_samples / (2 * neg_count)\n",
    "weights[1] = num_samples / (2 * pos_count)\n",
    "\n",
    "\n",
    "print(weights, num_samples, pos_count, neg_count)"
   ]
  },
  {
   "cell_type": "code",
   "execution_count": null,
   "metadata": {},
   "outputs": [
    {
     "name": "stdout",
     "output_type": "stream",
     "text": [
      "Epoch 1/100\n",
      "WARNING:tensorflow:From c:\\Python39\\lib\\site-packages\\keras\\src\\utils\\tf_utils.py:492: The name tf.ragged.RaggedTensorValue is deprecated. Please use tf.compat.v1.ragged.RaggedTensorValue instead.\n",
      "\n",
      "WARNING:tensorflow:From c:\\Python39\\lib\\site-packages\\keras\\src\\engine\\base_layer_utils.py:384: The name tf.executing_eagerly_outside_functions is deprecated. Please use tf.compat.v1.executing_eagerly_outside_functions instead.\n",
      "\n",
      "6/6 [==============================] - 1s 45ms/step - loss: 3.3437 - accuracy: 0.5260 - binary_crossentropy: 2.5411 - val_loss: 2.7766 - val_accuracy: 0.3385 - val_binary_crossentropy: 2.7766\n",
      "Epoch 2/100\n",
      "6/6 [==============================] - 0s 12ms/step - loss: 1.0801 - accuracy: 0.6094 - binary_crossentropy: 1.2304 - val_loss: 0.7984 - val_accuracy: 0.6769 - val_binary_crossentropy: 0.7984\n",
      "Epoch 3/100\n",
      "6/6 [==============================] - 0s 11ms/step - loss: 0.4132 - accuracy: 0.8594 - binary_crossentropy: 0.3215 - val_loss: 0.8578 - val_accuracy: 0.5846 - val_binary_crossentropy: 0.8578\n",
      "Epoch 4/100\n",
      "6/6 [==============================] - 0s 12ms/step - loss: 0.2938 - accuracy: 0.7760 - binary_crossentropy: 0.3941 - val_loss: 0.5713 - val_accuracy: 0.7846 - val_binary_crossentropy: 0.5713\n",
      "Epoch 5/100\n",
      "6/6 [==============================] - 0s 12ms/step - loss: 0.1956 - accuracy: 0.9479 - binary_crossentropy: 0.1376 - val_loss: 0.6233 - val_accuracy: 0.8000 - val_binary_crossentropy: 0.6233\n",
      "Epoch 6/100\n",
      "6/6 [==============================] - 0s 12ms/step - loss: 0.0928 - accuracy: 0.9688 - binary_crossentropy: 0.0954 - val_loss: 0.6489 - val_accuracy: 0.7385 - val_binary_crossentropy: 0.6489\n",
      "Epoch 7/100\n",
      "6/6 [==============================] - 0s 13ms/step - loss: 0.0622 - accuracy: 0.9844 - binary_crossentropy: 0.0818 - val_loss: 0.5852 - val_accuracy: 0.7692 - val_binary_crossentropy: 0.5852\n",
      "3/3 - 0s - loss: 0.5713 - accuracy: 0.7846 - binary_crossentropy: 0.5713 - 28ms/epoch - 9ms/step\n"
     ]
    },
    {
     "data": {
      "text/plain": [
       "[0.5713364481925964, 0.7846153974533081, 0.5713364481925964]"
      ]
     },
     "execution_count": 6,
     "metadata": {},
     "output_type": "execute_result"
    }
   ],
   "source": [
    "es = tf.keras.callbacks.EarlyStopping(monitor='val_loss', restore_best_weights=True, patience=3)\n",
    "\n",
    "model.fit(X_train, y_train, epochs=100, validation_data=(X_test, y_test), class_weight = weights, callbacks=[es])\n",
    "\n",
    "#Validate the model\n",
    "\n",
    "model.evaluate(X_test, y_test, verbose=2)"
   ]
  },
  {
   "cell_type": "code",
   "execution_count": null,
   "metadata": {},
   "outputs": [
    {
     "name": "stdout",
     "output_type": "stream",
     "text": [
      "3/3 [==============================] - 0s 3ms/step\n"
     ]
    }
   ],
   "source": [
    "y_prob_tf = model.predict(X_test)"
   ]
  },
  {
   "cell_type": "code",
   "execution_count": null,
   "metadata": {},
   "outputs": [
    {
     "name": "stdout",
     "output_type": "stream",
     "text": [
      "0.7538461538461538\n"
     ]
    }
   ],
   "source": [
    "from sklearn.linear_model import LogisticRegression\n",
    "lr = LogisticRegression(C = 1000, max_iter=2000, class_weight=weights, penalty='l1', solver='liblinear', random_state=123)\n",
    "lr.fit(X_train, y_train)\n",
    "print(lr.score(X_test, y_test))\n",
    "y_prob_lr = lr.predict_proba(X_test)[:,1]"
   ]
  },
  {
   "cell_type": "code",
   "execution_count": null,
   "metadata": {},
   "outputs": [
    {
     "name": "stdout",
     "output_type": "stream",
     "text": [
      "0.676923076923077\n"
     ]
    }
   ],
   "source": [
    "from sklearn.ensemble import RandomForestClassifier\n",
    "rf = RandomForestClassifier(max_depth = 15)\n",
    "rf.fit(X_train, y_train)\n",
    "print(rf.score(X_test, y_test))\n",
    "y_prob_rf = rf.predict_proba(X_test)[:,1]"
   ]
  },
  {
   "cell_type": "code",
   "execution_count": null,
   "metadata": {},
   "outputs": [
    {
     "name": "stdout",
     "output_type": "stream",
     "text": [
      "0.7230769230769231\n"
     ]
    }
   ],
   "source": [
    "from lightgbm import LGBMClassifier\n",
    "lgb = LGBMClassifier(num_leaves = 3, verbose=0)\n",
    "lgb.fit(X_train, y_train)\n",
    "print(lgb.score(X_test, y_test))\n",
    "y_prob_lgb = lgb.predict_proba(X_test)[:,1]"
   ]
  },
  {
   "cell_type": "code",
   "execution_count": null,
   "metadata": {},
   "outputs": [
    {
     "name": "stdout",
     "output_type": "stream",
     "text": [
      "0.8769230769230769\n"
     ]
    }
   ],
   "source": [
    "from sklearn.svm import SVC\n",
    "svc = SVC(probability=True, C=1000, kernel='linear')\n",
    "svc.fit(X_train, y_train)\n",
    "print(svc.score(X_test, y_test))\n",
    "y_prob_svc = svc.predict_proba(X_test)[:,1]"
   ]
  },
  {
   "cell_type": "code",
   "execution_count": null,
   "metadata": {},
   "outputs": [
    {
     "name": "stdout",
     "output_type": "stream",
     "text": [
      "0.676923076923077\n"
     ]
    }
   ],
   "source": [
    "from sklearn.neighbors import KNeighborsClassifier\n",
    "\n",
    "kn = KNeighborsClassifier()\n",
    "kn.fit(X_train, y_train)\n",
    "print(kn.score(X_test, y_test))\n",
    "y_prob_kn = kn.predict_proba(X_test)[:,1]\n",
    "\n"
   ]
  },
  {
   "cell_type": "code",
   "execution_count": null,
   "metadata": {},
   "outputs": [
    {
     "name": "stdout",
     "output_type": "stream",
     "text": [
      "0.7538461538461538\n"
     ]
    }
   ],
   "source": [
    "from sklearn.ensemble import AdaBoostClassifier\n",
    "\n",
    "adb = AdaBoostClassifier(random_state=123)\n",
    "adb.fit(X_train, y_train)\n",
    "print(adb.score(X_test, y_test))\n",
    "y_prob_adb = adb.predict_proba(X_test)[:,1]"
   ]
  },
  {
   "cell_type": "code",
   "execution_count": null,
   "metadata": {},
   "outputs": [
    {
     "name": "stdout",
     "output_type": "stream",
     "text": [
      "0.7846153846153846\n"
     ]
    }
   ],
   "source": [
    "from sklearn.naive_bayes import BernoulliNB\n",
    "\n",
    "bnb = BernoulliNB()\n",
    "bnb.fit(X_train, y_train)\n",
    "print(bnb.score(X_test, y_test))\n",
    "y_prob_bnb = bnb.predict_proba(X_test)[:,1]\n"
   ]
  },
  {
   "cell_type": "code",
   "execution_count": null,
   "metadata": {},
   "outputs": [
    {
     "name": "stdout",
     "output_type": "stream",
     "text": [
      "Best parameters found:\n",
      " {'activation': 'tanh', 'alpha': 0.0001, 'learning_rate': 'constant', 'solver': 'lbfgs'}\n",
      "0.8461538461538461\n"
     ]
    },
    {
     "name": "stderr",
     "output_type": "stream",
     "text": [
      "c:\\Python39\\lib\\site-packages\\sklearn\\neural_network\\_multilayer_perceptron.py:541: ConvergenceWarning: lbfgs failed to converge (status=1):\n",
      "STOP: TOTAL NO. of ITERATIONS REACHED LIMIT.\n",
      "\n",
      "Increase the number of iterations (max_iter) or scale the data as shown in:\n",
      "    https://scikit-learn.org/stable/modules/preprocessing.html\n",
      "  self.n_iter_ = _check_optimize_result(\"lbfgs\", opt_res, self.max_iter)\n"
     ]
    }
   ],
   "source": [
    "from sklearn.neural_network import MLPClassifier\n",
    "mlp = MLPClassifier(random_state=123, learning_rate= 'constant', solver= 'lbfgs', activation = 'logistic', alpha = 0.05)\n",
    "\n",
    "parameter_space = {\n",
    "    'activation': ['relu', 'identity', 'logistic', 'tanh'],\n",
    "    'solver': ['lbfgs', 'sgd', 'adam'],\n",
    "    'alpha': [0.0001, 0.05, 0.001],\n",
    "    'learning_rate': ['constant', 'invscaling', 'adaptive'],\n",
    "}\n",
    "\n",
    "from sklearn.model_selection import GridSearchCV\n",
    "\n",
    "clf = GridSearchCV(mlp, parameter_space, n_jobs=-1, cv=3)\n",
    "clf.fit(X_train, y_train)\n",
    "\n",
    "print('Best parameters found:\\n', clf.best_params_)\n",
    "\n",
    "\n",
    "mlp.fit(X_train, y_train)\n",
    "print(mlp.score(X_test, y_test))\n",
    "y_prob_mlp = mlp.predict_proba(X_test)[:,1]"
   ]
  },
  {
   "cell_type": "code",
   "execution_count": null,
   "metadata": {},
   "outputs": [
    {
     "data": {
      "image/png": "[encoded data removed]",
      "text/plain": [
       "<Figure size 640x480 with 1 Axes>"
      ]
     },
     "metadata": {},
     "output_type": "display_data"
    }
   ],
   "source": [
    "plt.figure(1)\n",
    "plt.plot([0, 1], [0, 1], 'k--')\n",
    "\n",
    "fpr, tpr, thresholds = roc_curve(y_test, y_prob_svc)\n",
    "auc_val = metrics.auc(fpr, tpr)\n",
    "plt.plot(fpr, tpr, label='SVC (AUC: {:.2f})'.format(auc_val))\n",
    "\n",
    "fpr, tpr, thresholds = roc_curve(y_test, y_prob_lr)\n",
    "auc_val = metrics.auc(fpr, tpr)\n",
    "plt.plot(fpr, tpr, label='LogisticRegression (AUC: {:.2f})'.format(auc_val))\n",
    "\n",
    "fpr, tpr, thresholds = roc_curve(y_test, y_prob_mlp)\n",
    "auc_val = metrics.auc(fpr, tpr)\n",
    "plt.plot(fpr, tpr, label='MLPClassifier (AUC: {:.2f})'.format(auc_val))\n",
    "\n",
    "fpr, tpr, thresholds = roc_curve(y_test, y_prob_tf)\n",
    "auc_val = metrics.auc(fpr, tpr)\n",
    "plt.plot(fpr, tpr, label='TensorFlow (AUC: {:.2f})'.format(auc_val))\n",
    "\n",
    "fpr, tpr, thresholds = roc_curve(y_test, y_prob_lgb)\n",
    "auc_val = metrics.auc(fpr, tpr)\n",
    "plt.plot(fpr, tpr, label='LGBMClassifier (AUC: {:.2f})'.format(auc_val))\n",
    "\n",
    "fpr, tpr, thresholds = roc_curve(y_test, y_prob_bnb)\n",
    "auc_val = metrics.auc(fpr, tpr)\n",
    "plt.plot(fpr, tpr, label='BernoulliNaiveBayes (AUC: {:.2f})'.format(auc_val))\n",
    "\n",
    "\n",
    "fpr, tpr, thresholds = roc_curve(y_test, y_prob_kn)\n",
    "auc_val = metrics.auc(fpr, tpr)\n",
    "plt.plot(fpr, tpr, label='KNeighborsClassifier (AUC: {:.2f})'.format(auc_val))\n",
    "\n",
    "fpr, tpr, thresholds = roc_curve(y_test, y_prob_rf)\n",
    "auc_val = metrics.auc(fpr, tpr)\n",
    "plt.plot(fpr, tpr, label='RandomForestClassifier (AUC: {:.2f})'.format(auc_val))\n",
    "\n",
    "\n",
    "\n",
    "fpr, tpr, thresholds = roc_curve(y_test, y_prob_adb)\n",
    "auc_val = metrics.auc(fpr, tpr)\n",
    "plt.plot(fpr, tpr, label='AdaBoostClassifier (AUC: {:.2f})'.format(auc_val))\n",
    "\n",
    "\n",
    "\n",
    "\n",
    "plt.xlabel('False positive rate')\n",
    "plt.ylabel('True positive rate')\n",
    "plt.title('ROC curve mRNA + Mutation + Methylation')\n",
    "plt.legend(loc='best')\n",
    "plt.show()\n"
   ]
  }
 ],
 "metadata": {
  "kernelspec": {
   "display_name": "Python 3",
   "language": "python",
   "name": "python3"
  },
  "language_info": {
   "codemirror_mode": {
    "name": "ipython",
    "version": 3
   },
   "file_extension": ".py",
   "mimetype": "text/x-python",
   "name": "python",
   "nbconvert_exporter": "python",
   "pygments_lexer": "ipython3",
   "version": "3.9.5"
  }
 },
 "nbformat": 4,
 "nbformat_minor": 2
}
