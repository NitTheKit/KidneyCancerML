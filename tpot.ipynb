{
 "cells": [
  {
   "cell_type": "code",
   "execution_count": 3,
   "metadata": {},
   "outputs": [
    {
     "name": "stderr",
     "output_type": "stream",
     "text": [
      "c:\\Python39\\lib\\site-packages\\tpot\\builtins\\__init__.py:36: UserWarning: Warning: optional dependency `torch` is not available. - skipping import of NN models.\n",
      "  warnings.warn(\"Warning: optional dependency `torch` is not available. - skipping import of NN models.\")\n"
     ]
    }
   ],
   "source": [
    "import pandas as pd\n",
    "import numpy as np\n",
    "from tpot import TPOTClassifier\n",
    "from sklearn.model_selection import train_test_split"
   ]
  },
  {
   "cell_type": "code",
   "execution_count": 16,
   "metadata": {},
   "outputs": [],
   "source": [
    "class Data:\n",
    "    def __init__(self, data, target) -> None:\n",
    "        self.data = data\n",
    "        self.target = target\n",
    "\n",
    "\n"
   ]
  },
  {
   "cell_type": "code",
   "execution_count": 24,
   "metadata": {},
   "outputs": [],
   "source": [
    "\n",
    "\n",
    "data=[\"data_mrna_agilent_microarray.txt\", \"data_mrna_seq_v2_rsem.txt\" ]\n",
    "\n",
    "\n",
    "df = pd.read_csv(\".\\kirc_tcga\\kirc_tcga\\data_clinical_patient.txt\",delimiter=\"\\t\")\n",
    "df.to_csv(\"data_clinical_patient.csv\", encoding='utf-8', index=False)"
   ]
  },
  {
   "cell_type": "code",
   "execution_count": 7,
   "metadata": {},
   "outputs": [
    {
     "name": "stderr",
     "output_type": "stream",
     "text": [
      "C:\\Users\\nitin\\AppData\\Local\\Temp\\ipykernel_21188\\2350188714.py:1: DtypeWarning: Columns (1,2,3,4,5,6,7,8,9,10,11,12,13,14,15,16,17,18,19,20,21,22,23,24,25,26,27,28,29,30,31,32,33,34,35,36,37,38,39,40,41,42,43,44,45,46,47,48,49,50,51,52,53,54,55,56,57,58,59,60,61,62,63,64,65,66,67,68,69,70,71,72,73,74,75,76,77,78,79,80,81,82,83,84,85,86,87,88,89,90,91,92,93,94,95,96,97,98,99,100,101,102,103,104,105,106,107,108,109,110,111,112,113,114,115,116,117,118,119,120,121,122,123,124,125,126,127,128,129,130,131,132,133,134,135,136,137,138,139,140,141,142,143,144,145,146,147,148,149,150,151,152,153,154,155,156,157,158,159,160,161,162,163,164,165,166,167,168,169,170,171,172,173,174,175,176,177,178,179,180,181,182,183,184,185,186,187,188,189,190,191,192,193,194,195,196,197,198,199,200,201,202,203,204,205,206,207,208,209,210,211,212,213,214,215,216,217,218,219,220,221,222,223,224,225,226,227,228,229,230,231,232,233,234,235,236,237,238,239,240,241,242,243,244,245,246,247,248,249,250,251,252,253,254,255,256,257,258,259,260,261,262,263,264,265,266,267,268,269,270,271,272,273,274,275,276,277,278,279,280,281,282,283,284,285,286,287,288,289,290,291,292,293,294,295,296,297,298,299,300,301,302,303,304,305,306,307,308,309,310,311,312,313,314,315,316,317,318,319,320,321,322,323,324,325,326,327,328,329,330,331,332,333,334,335,336,337,338,339,340,341,342,343,344,345,346,347,348,349,350,351,352,353,354,355,356,357,358,359,360,361,362,363,364,365,366,367,368,369,370,371,372,373,374,375,376,377,378,379,380,381,382,383,384,385,386,387,388,389,390,391,392,393,394,395,396,397,398,399,400,401,402,403,404,405,406,407,408,409,410,411,412,413,414,415,416,417,418,419,420,421,422,423,424,425,426,427,428,429,430,431,432,433,434,435,436,437,438,439,440,441,442,443,444,445,446,447,448,449,450,451,452,453,454,455,456,457,458,459,460,461,462,463,464,465,466,467,468,469,470,471,472,473,474,475,476,477,478,479,480,481,482,483,484,485,486,487,488,489,490,491,492,493,494,495,496,497,498,499,500,501,502,503,504,505,506,507,508,509,510,511,512,513,514,515,516,517,518,519,520,521,522,523,524,525,526,527,528,529,530,531,532,533,534,535) have mixed types. Specify dtype option on import or set low_memory=False.\n",
      "  pd.read_csv('data_mrna_seq_v2_rsem.csv', header=None).T.to_csv('data_mrna_seq_v2_rsem_transposed.csv', header=False, index=False)\n"
     ]
    }
   ],
   "source": [
    "pd.read_csv('data_mrna_seq_v2_rsem.csv', header=None).T.to_csv('data_mrna_seq_v2_rsem_transposed.csv', header=False, index=False)\n"
   ]
  },
  {
   "cell_type": "code",
   "execution_count": 5,
   "metadata": {},
   "outputs": [
    {
     "name": "stdout",
     "output_type": "stream",
     "text": [
      "      Hugo_Symbol  LOC100130426      UBE2Q2P3    UBE2Q2P3.1     HMGB1P1  \\\n",
      "0  Entrez_Gene_Id   100130426.0  1.001331e+08  1.001349e+08  10357.0000   \n",
      "1    TCGA-3Z-A93Z           0.0  2.960800e+00  1.146690e+01     75.7771   \n",
      "2    TCGA-6D-AA2E           0.0  2.450100e+00  2.406900e+00     49.6384   \n",
      "3    TCGA-A3-3306           0.0  3.224600e+00  8.162500e+00     70.2692   \n",
      "4    TCGA-A3-3307           0.0  1.857800e+00  4.105500e+00     94.6101   \n",
      "\n",
      "       TIMM23     MOXD2    LOC155060    RNU12-2P      SSX9  ...       ZXDA  \\\n",
      "0  10431.0000  136542.0  155060.0000  26823.0000  280660.0  ...  7789.0000   \n",
      "1    563.9369       0.0     118.5585      0.0000       0.0  ...    42.6560   \n",
      "2   1313.5456       0.0     155.9633      1.0793       0.0  ...    60.4425   \n",
      "3    601.9669       0.0     130.4348      1.5528       0.0  ...   118.0124   \n",
      "4    546.3303       0.0     125.6881      1.8349       0.0  ...    89.4495   \n",
      "\n",
      "          ZXDB        ZXDC       ZYG11A      ZYG11B        ZYX    FLJ10821  \\\n",
      "0  158586.0000  79364.0000  440590.0000  79699.0000  7791.0000  23140.0000   \n",
      "1     233.9805    637.9575      24.4644    646.7396  3191.6695    880.0928   \n",
      "2     239.0718   1114.4091       1.6190    998.3810  2715.0567   1600.1079   \n",
      "3     457.0393    624.2236       1.0352   1190.9938  2051.2422   1098.3437   \n",
      "4     458.2569   1166.0550      10.5505   1184.4037  3391.2844   1043.1193   \n",
      "\n",
      "         ZZZ3       TPTEP1   AKR1C6P  \n",
      "0  26009.0000  387590.0000  389932.0  \n",
      "1    493.0527      38.8922       0.0  \n",
      "2    962.7631     304.9110       0.0  \n",
      "3    987.5776      15.0104       0.0  \n",
      "4    734.4037      39.4495       0.0  \n",
      "\n",
      "[5 rows x 20532 columns]\n"
     ]
    }
   ],
   "source": [
    "mrna_df = pd.read_csv('data_mrna_seq_v2_rsem_transposed.csv')\n",
    "mrna_df_1 = mrna_df.drop(519, axis=\"index\") #duplicate\n",
    "\n",
    "def remove01(x):\n",
    "    return x.removesuffix('-01')  \n",
    "\n",
    "ids = mrna_df_1['Hugo_Symbol']\n",
    "new_ids = ids.apply(remove01)\n",
    "mrna_df_1['Hugo_Symbol'] = new_ids\n",
    "\n",
    "print(mrna_df_1.head())\n",
    "\n"
   ]
  },
  {
   "cell_type": "code",
   "execution_count": 12,
   "metadata": {},
   "outputs": [
    {
     "name": "stdout",
     "output_type": "stream",
     "text": [
      "[0, 0, 0, 1, 0, 0, 0, 0, 0, 0, 0, 0, 0, 0, 1, 0, 1, 1, 0, 0, 1, 0, 0, 0, 0, 0, 0, 1, 1, 0, 0, 0, 0, 0, 0, 0, 0, 0, 0, 0, 0, 0, 0, 0, 0, 0, 0, 0, 0, 0, 0, 0, 1, 1, 0, 0, 0, 0, 0, 0, 0, 0, 0, 0, 0, 0, 0, 1, 0, 0, 1, 1, 0, 0, 0, 0, 0, 0, 0, 0, 0, 0, 0, 0, 0, 0, 0, 0, 0, 0, 0, 0, 0, 0, 1, 0, 0, 0, 0, 0, 0, 0, 0, 0, 0, 0, 0, 0, 0, 0, 0, 0, 0, 0, 0, 0, 0, 0, 0, 0, 0, 0, 0, 0, 0, 0, 0, 0, 0, 0, 0, 0, 0, 0, 0, 0, 0, 1, 0, 0, 0, 0, 0, 0, 0, 0, 0, 0, 0, 0, 0, 0, 0, 0, 0, 0, 0, 0, 0, 0, 0, 0, 0, 0, 1, 0, 1, 1, 1, 0, 0, 1, 0, 0, 0, 0, 0, 0, 0, 0, 0, 0, 0, 0, 0, 1, 0, 0, 0, 0, 0, 0, 0, 1, 0, 0, 0, 0, 0, 0, 0, 0, 0, 0, 0, 0, 0, 0, 0, 0, 0, 0, 0, 0, 0, 1, 0, 0, 0, 1, 0, 0, 0, 0, 0, 0, 0, 0, 0, 0, 0, 0, 0, 0, 1, 0, 0, 1, 0, 0, 1, 0, 1, 0, 0, 0, 0, 0, 0, 0, 0, 0, 0, 0, 0, 0, 0, 0, 1, 0, 0, 1, 0, 0, 0, 0, 0, 0, 0, 1, 0, 1, 0, 0, 0, 0, 0, 0, 1, 0, 0, 0, 0, 0, 1, 0, 1, 0, 0, 0, 0, 0, 0, 0, 0, 1, 0, 0, 0, 0, 0, 0, 0, 0, 1, 0, 0, 1, 0, 0, 0, 1, 0, 0, 0, 0, 0, 0, 1, 0, 0, 0, 0, 0, 0, 0, 0, 0, 1, 0, 0, 0, 0, 0, 1, 0, 1, 0, 0, 0, 1, 0, 1, 0, 1, 0, 0, 0, 1, 0, 0, 1, 0, 1, 0, 0, 0, 0, 0, 0, 0, 1, 0, 1, 0, 0, 0, 0, 0, 0, 1, 0, 1, 0, 0, 0, 0, 0, 1, 0, 1, 0, 0, 0, 1, 0, 0, 0, 0, 0, 0, 0, 0, 0, 0, 0, 0, 0, 0, 0, 0, 0, 0, 0, 0, 0, 0, 0, 0, 0, 0, 0, 1, 0, 0, 1, 0, 0, 0, 0, 0, 0, 0, 1, 0, 0, 0, 0, 0, 0, 0, 0, 0, 0, 0, 0, 0, 0, 0, 0, 0, 0, 0, 0, 0, 1, 1, 0, 1, 0, 0, 0, 0, 0, 0, 0, 0, 0, 0, 0, 0, 0, 0, 0, 0, 1, 0, 0, 1, 1, 0, 0, 0, 0, 0, 1, 0, 0, 1, 0, 0, 0, 0, 0, 0, 0, 0, 0, 0, 0, 0, 0, 0, 0, 0, 0, 0, 0, 0, 0, 0, 0, 0, 0, 0, 0, 0, 1, 1, 1, 1, 1, 1, 1, 0, 1, 0, 0, 1, 0, 0, 0, 0, 0, 0, 1, 0, 0, 0, 0, 1, 0, 0]\n"
     ]
    }
   ],
   "source": [
    "recur_df = pd.read_csv('data_clinical_patient_onlydata.csv')\n",
    "recur_ids = recur_df['PATIENT_ID']\n",
    "recur_bool = recur_df['HISTORY_OTHER_MALIGNANCY']\n",
    "\n",
    "y = []\n",
    "for i in range(len(recur_bool)):\n",
    "    if recur_ids[i] in new_ids.values:\n",
    "        if recur_bool[i] == 'No':\n",
    "            y.append(0)\n",
    "        else:\n",
    "            y.append(1)\n",
    "\n",
    "print(y)\n",
    "\n",
    "\n",
    "\n",
    "#print(recur_df)"
   ]
  },
  {
   "cell_type": "code",
   "execution_count": 13,
   "metadata": {},
   "outputs": [
    {
     "name": "stdout",
     "output_type": "stream",
     "text": [
      "     LOC100130426  UBE2Q2P3  UBE2Q2P3.1   HMGB1P1     TIMM23  MOXD2  \\\n",
      "1             0.0    2.9608     11.4669   75.7771   563.9369    0.0   \n",
      "2             0.0    2.4501      2.4069   49.6384  1313.5456    0.0   \n",
      "3             0.0    3.2246      8.1625   70.2692   601.9669    0.0   \n",
      "4             0.0    1.8578      4.1055   94.6101   546.3303    0.0   \n",
      "5             0.0    6.4640      2.7113   89.7213   721.6424    0.0   \n",
      "..            ...       ...         ...       ...        ...    ...   \n",
      "530           0.0    5.0603      3.4824  102.8342   649.2462    0.0   \n",
      "531           0.0   17.1276      2.9855   95.3237   654.3055    0.0   \n",
      "532           0.0    2.7042      8.5634   62.0845  1256.3380    0.0   \n",
      "533           0.0   12.5228      8.3895  104.6356   581.0354    0.0   \n",
      "534           0.0    3.8379      9.6231   72.3542  1088.8424    0.0   \n",
      "\n",
      "     LOC155060  RNU12-2P  SSX9  LOC317712  ...      ZXDA      ZXDB       ZXDC  \\\n",
      "1     118.5585    0.0000   0.0        0.0  ...   42.6560  233.9805   637.9575   \n",
      "2     155.9633    1.0793   0.0        0.0  ...   60.4425  239.0718  1114.4091   \n",
      "3     130.4348    1.5528   0.0        0.0  ...  118.0124  457.0393   624.2236   \n",
      "4     125.6881    1.8349   0.0        0.0  ...   89.4495  458.2569  1166.0550   \n",
      "5     335.3596    0.9175   0.0        0.0  ...   91.7536  398.6696  1576.7863   \n",
      "..         ...       ...   ...        ...  ...       ...       ...        ...   \n",
      "530   526.1307    1.5075   0.0        0.0  ...   54.2714  271.3568  1125.6281   \n",
      "531  1088.6235    0.0000   0.0        0.0  ...   49.6543  323.6958   651.1628   \n",
      "532   289.5775    1.1268   0.0        0.0  ...   46.7606  241.6901   872.1127   \n",
      "533   227.1656    0.4100   0.0        0.0  ...   80.3690  355.5100   668.7852   \n",
      "534   124.1400    1.4957   0.0        0.0  ...  141.4897  428.6569   990.4278   \n",
      "\n",
      "      ZYG11A     ZYG11B        ZYX   FLJ10821      ZZZ3    TPTEP1  AKR1C6P  \n",
      "1    24.4644   646.7396  3191.6695   880.0928  493.0527   38.8922      0.0  \n",
      "2     1.6190   998.3810  2715.0567  1600.1079  962.7631  304.9110      0.0  \n",
      "3     1.0352  1190.9938  2051.2422  1098.3437  987.5776   15.0104      0.0  \n",
      "4    10.5505  1184.4037  3391.2844  1043.1193  734.4037   39.4495      0.0  \n",
      "5     0.9175  1245.5557  4230.3016  1719.9220  918.9127   12.3867      0.0  \n",
      "..       ...        ...        ...        ...       ...       ...      ...  \n",
      "530  33.1658   954.7739  4465.8291  1237.1859  618.0905   67.3367      0.0  \n",
      "531   0.0000   760.5280  3014.4563   864.8649  606.5368   29.5412      0.0  \n",
      "532   0.5634   715.4930  4736.9014  1233.8028  548.7324  640.0000      0.0  \n",
      "533   4.9206   714.3004  3410.7637  1094.0031  485.9047   21.7324      0.0  \n",
      "534  12.2644  1319.1744  1455.8780  1734.6695  488.7825  273.7063      0.0  \n",
      "\n",
      "[533 rows x 20531 columns]\n"
     ]
    }
   ],
   "source": [
    "mrna_df_x = mrna_df_1.drop('Hugo_Symbol', axis='columns')\n",
    "mrna_df_x.drop(0, axis='index', inplace=True)\n",
    "print(mrna_df_x)"
   ]
  },
  {
   "cell_type": "code",
   "execution_count": 20,
   "metadata": {},
   "outputs": [],
   "source": [
    "data = Data(mrna_df_x.to_numpy(), np.array(y))\n",
    "\n",
    "np.save('processed_mrna_data.npy', mrna_df_x.to_numpy())\n",
    "np.save('processed_recurrence_data.npy', np.array(y))\n",
    "\n",
    "\n"
   ]
  },
  {
   "cell_type": "code",
   "execution_count": null,
   "metadata": {},
   "outputs": [],
   "source": [
    "X_train, X_test, y_train, y_test = train_test_split(data.data, data.target,\n",
    "                                                    train_size=0.75, test_size=0.25)\n",
    "\n",
    "pipeline_optimizer = TPOTClassifier(generations=5, population_size=10, cv=5,\n",
    "                                    random_state=42, verbosity=2)\n",
    "pipeline_optimizer.fit(X_train, y_train)\n",
    "print(pipeline_optimizer.score(X_test, y_test))\n",
    "pipeline_optimizer.export('tpot_exported_pipeline.py')"
   ]
  },
  {
   "cell_type": "code",
   "execution_count": 44,
   "metadata": {},
   "outputs": [
    {
     "name": "stdout",
     "output_type": "stream",
     "text": [
      "                                                                                \n",
      "Generation 1 - Current best internal CV score: 0.8496202531645569\n",
      "                                                                               \n",
      "Generation 2 - Current best internal CV score: 0.8496202531645569\n",
      "                                                                                  \n",
      "Generation 3 - Current best internal CV score: 0.8496202531645569\n",
      "                                                                                  \n",
      "Generation 4 - Current best internal CV score: 0.8496202531645569\n",
      "                                                                                 \n",
      "Generation 5 - Current best internal CV score: 0.857120253164557\n",
      "                                                             \n",
      "Best pipeline: ExtraTreesClassifier(input_matrix, bootstrap=False, criterion=entropy, max_features=0.5, min_samples_leaf=1, min_samples_split=16, n_estimators=100)\n",
      "0.8507462686567164\n"
     ]
    }
   ],
   "source": [
    "X_train, X_test, y_train, y_test = train_test_split(data.data, data.target,\n",
    "                                                    train_size=0.75, test_size=0.25)\n",
    "\n",
    "pipeline_optimizer = TPOTClassifier(generations=5, population_size=20, cv=5,\n",
    "                                    random_state=42, verbosity=2)\n",
    "pipeline_optimizer.fit(X_train, y_train)\n",
    "print(pipeline_optimizer.score(X_test, y_test))\n",
    "pipeline_optimizer.export('tpot_exported_pipeline.py')"
   ]
  }
 ],
 "metadata": {
  "kernelspec": {
   "display_name": "Python 3",
   "language": "python",
   "name": "python3"
  },
  "language_info": {
   "codemirror_mode": {
    "name": "ipython",
    "version": 3
   },
   "file_extension": ".py",
   "mimetype": "text/x-python",
   "name": "python",
   "nbconvert_exporter": "python",
   "pygments_lexer": "ipython3",
   "version": "3.9.5"
  }
 },
 "nbformat": 4,
 "nbformat_minor": 2
}
